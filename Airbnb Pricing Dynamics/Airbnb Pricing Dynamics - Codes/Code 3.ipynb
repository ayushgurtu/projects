{
 "cells": [
  {
   "cell_type": "markdown",
   "metadata": {},
   "source": [
    "### Analysis of Amenities and Review Scores"
   ]
  },
  {
   "cell_type": "code",
   "execution_count": 1,
   "metadata": {},
   "outputs": [
    {
     "name": "stderr",
     "output_type": "stream",
     "text": [
      "<>:36: SyntaxWarning: invalid escape sequence '\\$'\n",
      "<>:58: SyntaxWarning: invalid escape sequence '\\$'\n",
      "<>:36: SyntaxWarning: invalid escape sequence '\\$'\n",
      "<>:58: SyntaxWarning: invalid escape sequence '\\$'\n",
      "C:\\Users\\leeze\\AppData\\Local\\Temp\\ipykernel_29536\\2432039981.py:36: SyntaxWarning: invalid escape sequence '\\$'\n",
      "  df_combined_top100['price'] = df_combined_top100['price'].replace({'\\$': '', ',': ''}, regex=True).astype(float)\n",
      "C:\\Users\\leeze\\AppData\\Local\\Temp\\ipykernel_29536\\2432039981.py:58: SyntaxWarning: invalid escape sequence '\\$'\n",
      "  df_combined_btm100['price'] = df_combined_btm100['price'].replace({'\\$': '', ',': ''}, regex=True).astype(float)\n"
     ]
    }
   ],
   "source": [
    "import matplotlib.pyplot as plt\n",
    "import seaborn as sns  \n",
    "import pandas as pd\n",
    "import numpy as np\n",
    "import scipy.stats as stats\n",
    "import chardet\n",
    "import ast\n",
    "import plotly.express as px\n",
    "import plotly.graph_objects as go\n",
    "import statsmodels.api as sm\n",
    "from scipy.stats import ttest_ind\n",
    "from statsmodels.formula.api import ols\n",
    "from statsmodels.stats.anova import anova_lm\n",
    "from statsmodels.graphics.factorplots import interaction_plot\n",
    "from statsmodels.stats.multicomp import pairwise_tukeyhsd\n",
    "\n",
    "# Read in top 100 listing for each city\n",
    "df_hk_top100 = pd.read_csv(r'C:\\Users\\leeze\\Desktop\\MITB - AI\\IS630 - Stat Thinking for Data Science\\Project_30percent\\Major Cities Airbnb Data\\all cities top bottom 100\\top_100_hk_listings.csv')\n",
    "df_mexico_top100 = pd.read_csv(r'C:\\Users\\leeze\\Desktop\\MITB - AI\\IS630 - Stat Thinking for Data Science\\Project_30percent\\Major Cities Airbnb Data\\all cities top bottom 100\\top_100_mexico_listings.csv')\n",
    "df_ny_top100 = pd.read_csv(r'C:\\Users\\leeze\\Desktop\\MITB - AI\\IS630 - Stat Thinking for Data Science\\Project_30percent\\Major Cities Airbnb Data\\all cities top bottom 100\\top_100_newyork_listings.csv')\n",
    "df_paris_top100 = pd.read_csv(r'C:\\Users\\leeze\\Desktop\\MITB - AI\\IS630 - Stat Thinking for Data Science\\Project_30percent\\Major Cities Airbnb Data\\all cities top bottom 100\\top_100_paris_listings.csv')\n",
    "df_rio_top100 = pd.read_csv(r'C:\\Users\\leeze\\Desktop\\MITB - AI\\IS630 - Stat Thinking for Data Science\\Project_30percent\\Major Cities Airbnb Data\\all cities top bottom 100\\top_100_rio_listings.csv')\n",
    "df_tokyo_top100 = pd.read_csv(r'C:\\Users\\leeze\\Desktop\\MITB - AI\\IS630 - Stat Thinking for Data Science\\Project_30percent\\Major Cities Airbnb Data\\all cities top bottom 100\\top_100_tokyo_listings.csv')\n",
    "\n",
    "# Add 'City' column to each dataframe\n",
    "df_hk_top100['City'] = 'Hong Kong'\n",
    "df_mexico_top100['City'] = 'Mexico City'\n",
    "df_ny_top100['City'] = 'New York'\n",
    "df_paris_top100['City'] = 'Paris'\n",
    "df_rio_top100['City'] = 'Rio de Janeiro'\n",
    "df_tokyo_top100['City'] = 'Tokyo'\n",
    "\n",
    "# Concatenate all dataframes into one\n",
    "df_combined_top100 = pd.concat([df_mexico_top100, df_paris_top100, df_tokyo_top100], ignore_index=True)\n",
    "df_combined_top100.fillna(0, inplace=True)\n",
    "df_combined_top100['price'] = df_combined_top100['price'].replace({'\\$': '', ',': ''}, regex=True).astype(float)\n",
    "# print(df_combined_top100.head())\n",
    "\n",
    "# Read in bottom 100 listings for each city\n",
    "df_hk_btm100 = pd.read_csv(r'C:\\Users\\leeze\\Desktop\\MITB - AI\\IS630 - Stat Thinking for Data Science\\Project_30percent\\Major Cities Airbnb Data\\all cities top bottom 100\\bottom_100_hk_listings.csv')\n",
    "df_mexico_btm100 = pd.read_csv(r'C:\\Users\\leeze\\Desktop\\MITB - AI\\IS630 - Stat Thinking for Data Science\\Project_30percent\\Major Cities Airbnb Data\\all cities top bottom 100\\bottom_100_mexico_listings.csv')\n",
    "df_ny_btm100 = pd.read_csv(r'C:\\Users\\leeze\\Desktop\\MITB - AI\\IS630 - Stat Thinking for Data Science\\Project_30percent\\Major Cities Airbnb Data\\all cities top bottom 100\\bottom_100_newyork_listings.csv')\n",
    "df_paris_btm100 = pd.read_csv(r'C:\\Users\\leeze\\Desktop\\MITB - AI\\IS630 - Stat Thinking for Data Science\\Project_30percent\\Major Cities Airbnb Data\\all cities top bottom 100\\bottom_100_paris_listings.csv')\n",
    "df_rio_btm100 = pd.read_csv(r'C:\\Users\\leeze\\Desktop\\MITB - AI\\IS630 - Stat Thinking for Data Science\\Project_30percent\\Major Cities Airbnb Data\\all cities top bottom 100\\bottom_100_rio_listings.csv')\n",
    "df_tokyo_btm100 = pd.read_csv(r'C:\\Users\\leeze\\Desktop\\MITB - AI\\IS630 - Stat Thinking for Data Science\\Project_30percent\\Major Cities Airbnb Data\\all cities top bottom 100\\bottom_100_tokyo_listings.csv')\n",
    "\n",
    "# Add 'City' column to each dataframe\n",
    "df_hk_btm100['City'] = 'Hong Kong'\n",
    "df_mexico_btm100['City'] = 'Mexico City'\n",
    "df_ny_btm100['City'] = 'New York'\n",
    "df_paris_btm100['City'] = 'Paris'\n",
    "df_rio_btm100['City'] = 'Rio de Janeiro'\n",
    "df_tokyo_btm100['City'] = 'Tokyo'\n",
    "\n",
    "# Concatenate all dataframes into one\n",
    "df_combined_btm100 = pd.concat([df_mexico_btm100, df_paris_btm100, df_tokyo_btm100], ignore_index=True)\n",
    "df_combined_btm100.fillna(0, inplace=True)\n",
    "df_combined_btm100['price'] = df_combined_btm100['price'].replace({'\\$': '', ',': ''}, regex=True).astype(float)\n",
    "# print(df_combined_btm100.head())\n"
   ]
  },
  {
   "cell_type": "code",
   "execution_count": 2,
   "metadata": {},
   "outputs": [
    {
     "name": "stdout",
     "output_type": "stream",
     "text": [
      "Number of unique cities: 3\n"
     ]
    }
   ],
   "source": [
    "num_unique_cities = df_combined_top100['City'].nunique()\n",
    "print(f\"Number of unique cities: {num_unique_cities}\")"
   ]
  },
  {
   "cell_type": "code",
   "execution_count": 3,
   "metadata": {},
   "outputs": [],
   "source": [
    "# Combine the two dataframes and add a label for review group\n",
    "df_combined_top100['review_group'] = 'Top 100'\n",
    "df_combined_btm100['review_group'] = 'Bottom 100'\n",
    "\n",
    "# Concatenate the dataframes\n",
    "df_combined_top_btm_100 = pd.concat([df_combined_top100, df_combined_btm100], ignore_index=True)"
   ]
  },
  {
   "cell_type": "code",
   "execution_count": 4,
   "metadata": {},
   "outputs": [
    {
     "name": "stdout",
     "output_type": "stream",
     "text": [
      "                                             amenities  \\\n",
      "0    [Host greets you, Coffee maker, Smoke alarm, C...   \n",
      "1    [Host greets you, Outdoor furniture, Portable ...   \n",
      "2    [Wifi, Coffee maker, Essentials, Microwave, Bu...   \n",
      "3    [Wifi, Outdoor furniture, Smoke alarm, Wine gl...   \n",
      "4    [Portable fans, Coffee maker, Wine glasses, Es...   \n",
      "..                                                 ...   \n",
      "595  [Bed linens, Self check-in, Bathtub, Hot water...   \n",
      "596  [Bed linens, Smoke alarm, Essentials, Shower g...   \n",
      "597  [Bed linens, Free washer – In unit, Bathtub, H...   \n",
      "598  [Bed linens, Free washer – In unit, Bathtub, S...   \n",
      "599  [Bed linens, Dining table, Self check-in, Toas...   \n",
      "\n",
      "                                    amenity_categories  \n",
      "0    [kitchen appliances, entertainment, safety, to...  \n",
      "1    [entertainment, kitchen appliances, safety, to...  \n",
      "2    [entertainment, kitchen appliances, safety, to...  \n",
      "3    [entertainment, kitchen appliances, safety, to...  \n",
      "4    [kitchen appliances, entertainment, toilet equ...  \n",
      "..                                                 ...  \n",
      "595  [kitchen appliances, entertainment, safety, to...  \n",
      "596  [kitchen appliances, entertainment, safety, to...  \n",
      "597  [kitchen appliances, entertainment, safety, to...  \n",
      "598  [entertainment, kitchen appliances, safety, to...  \n",
      "599  [kitchen appliances, entertainment, safety, to...  \n",
      "\n",
      "[600 rows x 2 columns]\n"
     ]
    }
   ],
   "source": [
    "# Convert string lists into Python lists\n",
    "df_combined_top_btm_100['amenities'] = df_combined_top_btm_100['amenities'].apply(lambda x: ast.literal_eval(x) if isinstance(x, str) else x)\n",
    "\n",
    "# Define a dictionary to map amenity keywords to broader categories\n",
    "category_mapping = {\n",
    "    'toilet equipping/ toiletries': [\n",
    "        'soap', 'shampoo', 'conditioner', 'towel', 'toothpaste', 'toothbrush', 'body wash', 'lotion',\n",
    "        'shower gel', 'bath', 'hand sanitizer', 'hair', 'hair dryer', 'toilet', 'toilet paper', 'bath', 'bathroom essentials',\n",
    "        'bath tub', 'shower', 'water', 'robe', 'bidet'\n",
    "    ],\n",
    "    'kitchen appliances': [\n",
    "        'microwave', 'oven', 'stove', 'refrigerator', 'fridge', 'freezer', 'toaster', \n",
    "        'coffee maker', 'kettle', 'blender', 'dishwasher', 'wine glasses', 'cooking', \n",
    "        'kitchenware', 'pots', 'pans', 'cutlery', 'dishes', 'silverware', 'utensils', 'cups',\n",
    "        'mugs', 'glasses', 'opener', 'corkscrew', 'grill', 'barbecue', 'cooker', 'food processor',\n",
    "        'juicer', 'mixer', 'waffle maker', 'fondue set', 'bread maker', 'sink'\n",
    "    ],\n",
    "    'housekeeping': [\n",
    "        'cleaning', 'laundry', 'washer', 'dryer', 'ironing board', 'iron', 'vacuum', \n",
    "        'broom', 'mop', 'housekeeping', 'keeping', 'laundromat', 'extra linens', 'cleaning', 'cleaning products',\n",
    "        'detergent', 'basket', 'rack'\n",
    "    ],\n",
    "    'entertainment': [\n",
    "        'tv', 'wifi', 'internet', 'cable', 'satellite', 'netflix', 'blu-ray', 'streaming', \n",
    "        'gaming console', 'hdtv', 'sound system', 'speakers', 'dvd player', 'hdmi',\n",
    "        'connection', 'board games', 'video games', 'music', 'movies', 'books', 'magazines',\n",
    "        'puzzles', 'toys', 'video library', 'game console', 'cd player', 'vinyl player',\n",
    "        'record player', 'karaoke', 'projector', 'home theater', 'smart tv', 'chromecast',\n",
    "        'arcade', 'playground'\n",
    "    ],\n",
    "    'comfort': [\n",
    "        'central heating', 'portable heater', 'heating', 'heater', 'heated', 'air conditioning', 'ac', 'aircon', 'cooling', 'fan', 'ceiling fan',\n",
    "        'blanket', 'pillow', 'bed', 'mattress', 'shades', 'curtains', 'extra pillows', 'extra blankets', 'quilts', 'duvet', 'comforter', 'linens',\n",
    "        'split-type ductless system', 'slippers', 'heated floors', 'heated towel rack', 'fireplace', 'wood stove', 'radiators',\n",
    "        'electric blanket', 'heated mattress pad'\n",
    "    ],\n",
    "    'safety': [\n",
    "        'smoke alarm', 'carbon monoxide alarm', 'alarm', 'fire extinguisher', 'first aid kit', \n",
    "        'safe', 'lockbox', 'security', 'cameras', 'security system', 'surveillance', 'emergency kit', 'fire blanket',\n",
    "        'fire escape', 'fire safety', 'fire sprinklers', 'smart lock', 'door lock', 'lock', 'window lock', \n",
    "        'safety', 'safety card', 'safety instructions', 'safety manual', 'guard', 'patrol', 'monitoring', 'cctv'\n",
    "    ],\n",
    "    'accessibility': [\n",
    "        'elevator', 'wheelchair accessible', 'ramp', 'step-free', 'wide doorway', 'accessible bathroom', 'grab bars', 'lowered sink', \n",
    "        'mobility', 'accessibility features', 'wide', 'accessible', 'disabled', 'handicap'\n",
    "    ],\n",
    "    'outdoor': [\n",
    "        'car park', 'carpark', 'parking', 'garage', 'street parking', 'patio', 'balcony', 'backyard', 'garden', \n",
    "        'bbq grill', 'terrace', 'outdoor seating', 'fire pit', 'bicycle', 'hiking', 'outdoor dining',\n",
    "        'outdoor shower', 'outdoor kitchen', 'outdoor furniture', 'outdoor games', 'outdoor space',\n",
    "        'outdoor grill', 'outdoor fireplace', 'outdoor pool', 'outdoor hot tub', 'outdoor bar',\n",
    "        'outdoor lighting', 'outdoor living', 'outdoor cinema', 'outdoor gym', 'outdoor yoga'\n",
    "    ],\n",
    "    'special amenities': [\n",
    "        'hot tub', 'pool', 'jacuzzi', 'gym', 'sauna', 'game room', 'wine cooler', 'piano', 'pool table', 'library', 'spa', 'steam room',\n",
    "        'yoga studio', 'golf course', 'tennis court', 'basketball court', 'volleyball court', 'soccer field', 'football field', 'baseball field', \n",
    "        'badminton court', 'squash court', 'court', 'table tennis', 'ping pong', 'billiards', 'darts', 'foosball', 'air hockey', 'lawn games', 'trampoline'\n",
    "    ],\n",
    "    'workspace': [\n",
    "        'work', 'desk', 'office', 'laptop friendly', 'printer', 'scanner', \n",
    "        'meeting', 'office chair', 'ergonomic', 'reading', 'study'\n",
    "    ]\n",
    "}\n",
    "\n",
    "# Function to categorize amenities\n",
    "def categorize_amenities(amenity_list):\n",
    "    categories = set()\n",
    "    for amenity in amenity_list:\n",
    "        for category, keywords in category_mapping.items():\n",
    "            if any(keyword.lower() in amenity.lower() for keyword in keywords):\n",
    "                categories.add(category)\n",
    "    return list(categories) if categories else ['others']\n",
    "\n",
    "# Apply the function to categorize the amenities for each row\n",
    "df_combined_top_btm_100['amenity_categories'] = df_combined_top_btm_100['amenities'].apply(categorize_amenities)\n",
    "\n",
    "# Display the data with categorized amenities\n",
    "print(df_combined_top_btm_100[['amenities', 'amenity_categories']])"
   ]
  },
  {
   "cell_type": "code",
   "execution_count": 5,
   "metadata": {},
   "outputs": [
    {
     "name": "stdout",
     "output_type": "stream",
     "text": [
      "accessibility                   184\n",
      "comfort                         578\n",
      "entertainment                   596\n",
      "housekeeping                    584\n",
      "kitchen appliances              553\n",
      "workspace                       375\n",
      "outdoor                         357\n",
      "special amenities               379\n",
      "safety                          563\n",
      "toilet equipping/ toiletries    588\n",
      "dtype: int64\n"
     ]
    }
   ],
   "source": [
    "# List of amenity columns (replace with actual amenity column names)\n",
    "amenity_columns = ['accessibility', 'comfort', 'entertainment', 'housekeeping', 'kitchen appliances', 'workspace', 'outdoor', 'special amenities', 'safety', 'toilet equipping/ toiletries']\n",
    "\n",
    "# Create new columns for each amenity category and populate with binary values\n",
    "for category in amenity_columns:\n",
    "    df_combined_top_btm_100[category] = df_combined_top_btm_100['amenity_categories'].apply(lambda x: 1 if category in x else 0)\n",
    "\n",
    "# Calculate the sum of each amenity in each group\n",
    "amenities_sum = df_combined_top_btm_100[amenity_columns].sum()\n",
    "print(amenities_sum)\n"
   ]
  },
  {
   "cell_type": "code",
   "execution_count": 6,
   "metadata": {},
   "outputs": [],
   "source": [
    "# Step 1: Create binary columns for each amenity category\n",
    "df_combined_top_btm_100 = df_combined_top_btm_100.copy()  # To avoid modifying the original data\n",
    "\n",
    "# Flatten the list of lists into a single list of unique amenities\n",
    "unique_amenities = set(amenity for sublist in df_combined_top_btm_100['amenity_categories'] for amenity in sublist)\n",
    "\n",
    "# Create a binary column for each amenity category\n",
    "for amenity in unique_amenities:\n",
    "    df_combined_top_btm_100[f'{amenity}_present'] = df_combined_top_btm_100['amenity_categories'].apply(\n",
    "        lambda x: 1 if amenity in x else 0\n",
    "    )\n",
    "\n",
    "# Verify the new columns\n",
    "# print(df_combined_top_btm_100.head())\n",
    "\n",
    "# Step 2: Aggregate the data to one row per listing\n",
    "# Assuming there's a 'id' column or similar identifier for each listing\n",
    "aggregation_functions = {col: 'max' if df_combined_top_btm_100[col].dtype != 'object' else 'first' for col in df_combined_top_btm_100.columns}\n",
    "# We'll aggregate all other columns using max(), but keep the 'review_group' intact.\n",
    "df_aggregated = df_combined_top_btm_100.groupby(['id', 'review_group'], as_index=False).agg(aggregation_functions)\n",
    "\n",
    "# Verify the new aggregated dataframe\n",
    "# print(df_aggregated.head())\n"
   ]
  },
  {
   "cell_type": "code",
   "execution_count": 7,
   "metadata": {},
   "outputs": [
    {
     "name": "stdout",
     "output_type": "stream",
     "text": [
      "Number of unique cities: 3\n"
     ]
    }
   ],
   "source": [
    "num_unique_cities = df_combined_top100['City'].nunique()\n",
    "print(f\"Number of unique cities: {num_unique_cities}\")"
   ]
  },
  {
   "cell_type": "code",
   "execution_count": 8,
   "metadata": {},
   "outputs": [
    {
     "data": {
      "application/vnd.plotly.v1+json": {
       "config": {
        "plotlyServerURL": "https://plot.ly"
       },
       "data": [
        {
         "alignmentgroup": "True",
         "hovertemplate": "variable=Top 100<br>Amenity Category=%{x}<br>Proportion of Listings=%{y}<extra></extra>",
         "legendgroup": "Top 100",
         "marker": {
          "color": "#636efa",
          "pattern": {
           "shape": ""
          }
         },
         "name": "Top 100",
         "offsetgroup": "Top 100",
         "orientation": "v",
         "showlegend": true,
         "textposition": "auto",
         "type": "bar",
         "x": [
          "accessibility_present",
          "comfort_present",
          "entertainment_present",
          "housekeeping_present",
          "kitchen appliances_present",
          "outdoor_present",
          "safety_present",
          "special amenities_present",
          "toilet equipping/ toiletries_present",
          "workspace_present"
         ],
         "xaxis": "x",
         "y": [
          0.21333333333333335,
          0.9366666666666666,
          0.99,
          0.9566666666666667,
          0.8633333333333333,
          0.41333333333333333,
          0.93,
          0.48333333333333334,
          0.9733333333333334,
          0.47
         ],
         "yaxis": "y"
        },
        {
         "alignmentgroup": "True",
         "hovertemplate": "variable=Bottom 100<br>Amenity Category=%{x}<br>Proportion of Listings=%{y}<extra></extra>",
         "legendgroup": "Bottom 100",
         "marker": {
          "color": "#EF553B",
          "pattern": {
           "shape": ""
          }
         },
         "name": "Bottom 100",
         "offsetgroup": "Bottom 100",
         "orientation": "v",
         "showlegend": true,
         "textposition": "auto",
         "type": "bar",
         "x": [
          "accessibility_present",
          "comfort_present",
          "entertainment_present",
          "housekeeping_present",
          "kitchen appliances_present",
          "outdoor_present",
          "safety_present",
          "special amenities_present",
          "toilet equipping/ toiletries_present",
          "workspace_present"
         ],
         "xaxis": "x",
         "y": [
          0.4,
          0.99,
          0.9966666666666667,
          0.99,
          0.98,
          0.7766666666666666,
          0.9466666666666667,
          0.78,
          0.9866666666666667,
          0.78
         ],
         "yaxis": "y"
        }
       ],
       "layout": {
        "barmode": "group",
        "height": 500,
        "legend": {
         "title": {
          "text": "variable"
         },
         "tracegroupgap": 0
        },
        "template": {
         "data": {
          "bar": [
           {
            "error_x": {
             "color": "#2a3f5f"
            },
            "error_y": {
             "color": "#2a3f5f"
            },
            "marker": {
             "line": {
              "color": "#E5ECF6",
              "width": 0.5
             },
             "pattern": {
              "fillmode": "overlay",
              "size": 10,
              "solidity": 0.2
             }
            },
            "type": "bar"
           }
          ],
          "barpolar": [
           {
            "marker": {
             "line": {
              "color": "#E5ECF6",
              "width": 0.5
             },
             "pattern": {
              "fillmode": "overlay",
              "size": 10,
              "solidity": 0.2
             }
            },
            "type": "barpolar"
           }
          ],
          "carpet": [
           {
            "aaxis": {
             "endlinecolor": "#2a3f5f",
             "gridcolor": "white",
             "linecolor": "white",
             "minorgridcolor": "white",
             "startlinecolor": "#2a3f5f"
            },
            "baxis": {
             "endlinecolor": "#2a3f5f",
             "gridcolor": "white",
             "linecolor": "white",
             "minorgridcolor": "white",
             "startlinecolor": "#2a3f5f"
            },
            "type": "carpet"
           }
          ],
          "choropleth": [
           {
            "colorbar": {
             "outlinewidth": 0,
             "ticks": ""
            },
            "type": "choropleth"
           }
          ],
          "contour": [
           {
            "colorbar": {
             "outlinewidth": 0,
             "ticks": ""
            },
            "colorscale": [
             [
              0,
              "#0d0887"
             ],
             [
              0.1111111111111111,
              "#46039f"
             ],
             [
              0.2222222222222222,
              "#7201a8"
             ],
             [
              0.3333333333333333,
              "#9c179e"
             ],
             [
              0.4444444444444444,
              "#bd3786"
             ],
             [
              0.5555555555555556,
              "#d8576b"
             ],
             [
              0.6666666666666666,
              "#ed7953"
             ],
             [
              0.7777777777777778,
              "#fb9f3a"
             ],
             [
              0.8888888888888888,
              "#fdca26"
             ],
             [
              1,
              "#f0f921"
             ]
            ],
            "type": "contour"
           }
          ],
          "contourcarpet": [
           {
            "colorbar": {
             "outlinewidth": 0,
             "ticks": ""
            },
            "type": "contourcarpet"
           }
          ],
          "heatmap": [
           {
            "colorbar": {
             "outlinewidth": 0,
             "ticks": ""
            },
            "colorscale": [
             [
              0,
              "#0d0887"
             ],
             [
              0.1111111111111111,
              "#46039f"
             ],
             [
              0.2222222222222222,
              "#7201a8"
             ],
             [
              0.3333333333333333,
              "#9c179e"
             ],
             [
              0.4444444444444444,
              "#bd3786"
             ],
             [
              0.5555555555555556,
              "#d8576b"
             ],
             [
              0.6666666666666666,
              "#ed7953"
             ],
             [
              0.7777777777777778,
              "#fb9f3a"
             ],
             [
              0.8888888888888888,
              "#fdca26"
             ],
             [
              1,
              "#f0f921"
             ]
            ],
            "type": "heatmap"
           }
          ],
          "heatmapgl": [
           {
            "colorbar": {
             "outlinewidth": 0,
             "ticks": ""
            },
            "colorscale": [
             [
              0,
              "#0d0887"
             ],
             [
              0.1111111111111111,
              "#46039f"
             ],
             [
              0.2222222222222222,
              "#7201a8"
             ],
             [
              0.3333333333333333,
              "#9c179e"
             ],
             [
              0.4444444444444444,
              "#bd3786"
             ],
             [
              0.5555555555555556,
              "#d8576b"
             ],
             [
              0.6666666666666666,
              "#ed7953"
             ],
             [
              0.7777777777777778,
              "#fb9f3a"
             ],
             [
              0.8888888888888888,
              "#fdca26"
             ],
             [
              1,
              "#f0f921"
             ]
            ],
            "type": "heatmapgl"
           }
          ],
          "histogram": [
           {
            "marker": {
             "pattern": {
              "fillmode": "overlay",
              "size": 10,
              "solidity": 0.2
             }
            },
            "type": "histogram"
           }
          ],
          "histogram2d": [
           {
            "colorbar": {
             "outlinewidth": 0,
             "ticks": ""
            },
            "colorscale": [
             [
              0,
              "#0d0887"
             ],
             [
              0.1111111111111111,
              "#46039f"
             ],
             [
              0.2222222222222222,
              "#7201a8"
             ],
             [
              0.3333333333333333,
              "#9c179e"
             ],
             [
              0.4444444444444444,
              "#bd3786"
             ],
             [
              0.5555555555555556,
              "#d8576b"
             ],
             [
              0.6666666666666666,
              "#ed7953"
             ],
             [
              0.7777777777777778,
              "#fb9f3a"
             ],
             [
              0.8888888888888888,
              "#fdca26"
             ],
             [
              1,
              "#f0f921"
             ]
            ],
            "type": "histogram2d"
           }
          ],
          "histogram2dcontour": [
           {
            "colorbar": {
             "outlinewidth": 0,
             "ticks": ""
            },
            "colorscale": [
             [
              0,
              "#0d0887"
             ],
             [
              0.1111111111111111,
              "#46039f"
             ],
             [
              0.2222222222222222,
              "#7201a8"
             ],
             [
              0.3333333333333333,
              "#9c179e"
             ],
             [
              0.4444444444444444,
              "#bd3786"
             ],
             [
              0.5555555555555556,
              "#d8576b"
             ],
             [
              0.6666666666666666,
              "#ed7953"
             ],
             [
              0.7777777777777778,
              "#fb9f3a"
             ],
             [
              0.8888888888888888,
              "#fdca26"
             ],
             [
              1,
              "#f0f921"
             ]
            ],
            "type": "histogram2dcontour"
           }
          ],
          "mesh3d": [
           {
            "colorbar": {
             "outlinewidth": 0,
             "ticks": ""
            },
            "type": "mesh3d"
           }
          ],
          "parcoords": [
           {
            "line": {
             "colorbar": {
              "outlinewidth": 0,
              "ticks": ""
             }
            },
            "type": "parcoords"
           }
          ],
          "pie": [
           {
            "automargin": true,
            "type": "pie"
           }
          ],
          "scatter": [
           {
            "fillpattern": {
             "fillmode": "overlay",
             "size": 10,
             "solidity": 0.2
            },
            "type": "scatter"
           }
          ],
          "scatter3d": [
           {
            "line": {
             "colorbar": {
              "outlinewidth": 0,
              "ticks": ""
             }
            },
            "marker": {
             "colorbar": {
              "outlinewidth": 0,
              "ticks": ""
             }
            },
            "type": "scatter3d"
           }
          ],
          "scattercarpet": [
           {
            "marker": {
             "colorbar": {
              "outlinewidth": 0,
              "ticks": ""
             }
            },
            "type": "scattercarpet"
           }
          ],
          "scattergeo": [
           {
            "marker": {
             "colorbar": {
              "outlinewidth": 0,
              "ticks": ""
             }
            },
            "type": "scattergeo"
           }
          ],
          "scattergl": [
           {
            "marker": {
             "colorbar": {
              "outlinewidth": 0,
              "ticks": ""
             }
            },
            "type": "scattergl"
           }
          ],
          "scattermapbox": [
           {
            "marker": {
             "colorbar": {
              "outlinewidth": 0,
              "ticks": ""
             }
            },
            "type": "scattermapbox"
           }
          ],
          "scatterpolar": [
           {
            "marker": {
             "colorbar": {
              "outlinewidth": 0,
              "ticks": ""
             }
            },
            "type": "scatterpolar"
           }
          ],
          "scatterpolargl": [
           {
            "marker": {
             "colorbar": {
              "outlinewidth": 0,
              "ticks": ""
             }
            },
            "type": "scatterpolargl"
           }
          ],
          "scatterternary": [
           {
            "marker": {
             "colorbar": {
              "outlinewidth": 0,
              "ticks": ""
             }
            },
            "type": "scatterternary"
           }
          ],
          "surface": [
           {
            "colorbar": {
             "outlinewidth": 0,
             "ticks": ""
            },
            "colorscale": [
             [
              0,
              "#0d0887"
             ],
             [
              0.1111111111111111,
              "#46039f"
             ],
             [
              0.2222222222222222,
              "#7201a8"
             ],
             [
              0.3333333333333333,
              "#9c179e"
             ],
             [
              0.4444444444444444,
              "#bd3786"
             ],
             [
              0.5555555555555556,
              "#d8576b"
             ],
             [
              0.6666666666666666,
              "#ed7953"
             ],
             [
              0.7777777777777778,
              "#fb9f3a"
             ],
             [
              0.8888888888888888,
              "#fdca26"
             ],
             [
              1,
              "#f0f921"
             ]
            ],
            "type": "surface"
           }
          ],
          "table": [
           {
            "cells": {
             "fill": {
              "color": "#EBF0F8"
             },
             "line": {
              "color": "white"
             }
            },
            "header": {
             "fill": {
              "color": "#C8D4E3"
             },
             "line": {
              "color": "white"
             }
            },
            "type": "table"
           }
          ]
         },
         "layout": {
          "annotationdefaults": {
           "arrowcolor": "#2a3f5f",
           "arrowhead": 0,
           "arrowwidth": 1
          },
          "autotypenumbers": "strict",
          "coloraxis": {
           "colorbar": {
            "outlinewidth": 0,
            "ticks": ""
           }
          },
          "colorscale": {
           "diverging": [
            [
             0,
             "#8e0152"
            ],
            [
             0.1,
             "#c51b7d"
            ],
            [
             0.2,
             "#de77ae"
            ],
            [
             0.3,
             "#f1b6da"
            ],
            [
             0.4,
             "#fde0ef"
            ],
            [
             0.5,
             "#f7f7f7"
            ],
            [
             0.6,
             "#e6f5d0"
            ],
            [
             0.7,
             "#b8e186"
            ],
            [
             0.8,
             "#7fbc41"
            ],
            [
             0.9,
             "#4d9221"
            ],
            [
             1,
             "#276419"
            ]
           ],
           "sequential": [
            [
             0,
             "#0d0887"
            ],
            [
             0.1111111111111111,
             "#46039f"
            ],
            [
             0.2222222222222222,
             "#7201a8"
            ],
            [
             0.3333333333333333,
             "#9c179e"
            ],
            [
             0.4444444444444444,
             "#bd3786"
            ],
            [
             0.5555555555555556,
             "#d8576b"
            ],
            [
             0.6666666666666666,
             "#ed7953"
            ],
            [
             0.7777777777777778,
             "#fb9f3a"
            ],
            [
             0.8888888888888888,
             "#fdca26"
            ],
            [
             1,
             "#f0f921"
            ]
           ],
           "sequentialminus": [
            [
             0,
             "#0d0887"
            ],
            [
             0.1111111111111111,
             "#46039f"
            ],
            [
             0.2222222222222222,
             "#7201a8"
            ],
            [
             0.3333333333333333,
             "#9c179e"
            ],
            [
             0.4444444444444444,
             "#bd3786"
            ],
            [
             0.5555555555555556,
             "#d8576b"
            ],
            [
             0.6666666666666666,
             "#ed7953"
            ],
            [
             0.7777777777777778,
             "#fb9f3a"
            ],
            [
             0.8888888888888888,
             "#fdca26"
            ],
            [
             1,
             "#f0f921"
            ]
           ]
          },
          "colorway": [
           "#636efa",
           "#EF553B",
           "#00cc96",
           "#ab63fa",
           "#FFA15A",
           "#19d3f3",
           "#FF6692",
           "#B6E880",
           "#FF97FF",
           "#FECB52"
          ],
          "font": {
           "color": "#2a3f5f"
          },
          "geo": {
           "bgcolor": "white",
           "lakecolor": "white",
           "landcolor": "#E5ECF6",
           "showlakes": true,
           "showland": true,
           "subunitcolor": "white"
          },
          "hoverlabel": {
           "align": "left"
          },
          "hovermode": "closest",
          "mapbox": {
           "style": "light"
          },
          "paper_bgcolor": "white",
          "plot_bgcolor": "#E5ECF6",
          "polar": {
           "angularaxis": {
            "gridcolor": "white",
            "linecolor": "white",
            "ticks": ""
           },
           "bgcolor": "#E5ECF6",
           "radialaxis": {
            "gridcolor": "white",
            "linecolor": "white",
            "ticks": ""
           }
          },
          "scene": {
           "xaxis": {
            "backgroundcolor": "#E5ECF6",
            "gridcolor": "white",
            "gridwidth": 2,
            "linecolor": "white",
            "showbackground": true,
            "ticks": "",
            "zerolinecolor": "white"
           },
           "yaxis": {
            "backgroundcolor": "#E5ECF6",
            "gridcolor": "white",
            "gridwidth": 2,
            "linecolor": "white",
            "showbackground": true,
            "ticks": "",
            "zerolinecolor": "white"
           },
           "zaxis": {
            "backgroundcolor": "#E5ECF6",
            "gridcolor": "white",
            "gridwidth": 2,
            "linecolor": "white",
            "showbackground": true,
            "ticks": "",
            "zerolinecolor": "white"
           }
          },
          "shapedefaults": {
           "line": {
            "color": "#2a3f5f"
           }
          },
          "ternary": {
           "aaxis": {
            "gridcolor": "white",
            "linecolor": "white",
            "ticks": ""
           },
           "baxis": {
            "gridcolor": "white",
            "linecolor": "white",
            "ticks": ""
           },
           "bgcolor": "#E5ECF6",
           "caxis": {
            "gridcolor": "white",
            "linecolor": "white",
            "ticks": ""
           }
          },
          "title": {
           "x": 0.05
          },
          "xaxis": {
           "automargin": true,
           "gridcolor": "white",
           "linecolor": "white",
           "ticks": "",
           "title": {
            "standoff": 15
           },
           "zerolinecolor": "white",
           "zerolinewidth": 2
          },
          "yaxis": {
           "automargin": true,
           "gridcolor": "white",
           "linecolor": "white",
           "ticks": "",
           "title": {
            "standoff": 15
           },
           "zerolinecolor": "white",
           "zerolinewidth": 2
          }
         }
        },
        "title": {
         "text": "Proportion of Listings with Each Amenity Category (Top 100 vs Bottom 100)"
        },
        "xaxis": {
         "anchor": "y",
         "domain": [
          0,
          1
         ],
         "tickangle": -45,
         "title": {
          "text": "Amenity Category"
         }
        },
        "yaxis": {
         "anchor": "x",
         "domain": [
          0,
          1
         ],
         "title": {
          "text": "Proportion of Listings"
         }
        }
       }
      }
     },
     "metadata": {},
     "output_type": "display_data"
    }
   ],
   "source": [
    "# Step 3: Filter out only the amenity category columns for descriptive analysis\n",
    "# We assume that the amenity columns all have '_present' in their names\n",
    "amenity_columns = [col for col in df_aggregated.columns if '_present' in col]\n",
    "\n",
    "# Calculate the mean proportion of each amenity category in top 100 and bottom 100 listings\n",
    "amenity_presence_summary = df_aggregated.groupby('review_group')[amenity_columns].mean()\n",
    "\n",
    "# Convert to a long format for plotting\n",
    "amenity_presence_summary_long = amenity_presence_summary.T.reset_index().rename(columns={'index': 'amenity_categories'})\n",
    "\n",
    "# Rename columns for better plotting\n",
    "amenity_presence_summary_long.columns = ['amenity_categories', 'Top 100', 'Bottom 100']\n",
    "\n",
    "# Sort the amenities by alphabetical order and remove 'others_present'\n",
    "amenity_presence_summary_long = amenity_presence_summary_long.sort_values(by='amenity_categories')\n",
    "amenity_presence_summary_long = amenity_presence_summary_long[amenity_presence_summary_long['amenity_categories'] != 'others_present']\n",
    "\n",
    "# Plot the proportion of listings with each amenity using Plotly\n",
    "fig = px.bar(amenity_presence_summary_long, x='amenity_categories', y=['Top 100', 'Bottom 100'],\n",
    "             title='Proportion of Listings with Each Amenity Category (Top 100 vs Bottom 100)',\n",
    "             labels={'value': 'Proportion of Listings', 'amenity_categories': 'Amenity Category'},\n",
    "             barmode='group', height=500)\n",
    "\n",
    "fig.update_layout(xaxis_tickangle=-45)\n",
    "fig.show()\n"
   ]
  },
  {
   "cell_type": "code",
   "execution_count": 9,
   "metadata": {},
   "outputs": [],
   "source": [
    "# Step 4: Conduct t-tests for each amenity category\n",
    "t_test_results = []\n",
    "\n",
    "# Filter out 'others_present' and sort the unique amenities alphabetically\n",
    "filtered_amenities = sorted([amenity for amenity in unique_amenities if amenity != 'others'])\n",
    "\n",
    "for amenity in filtered_amenities:\n",
    "    top_100 = df_aggregated[df_aggregated['review_group'] == 'Top 100'][f'{amenity}_present']\n",
    "    btm_100 = df_aggregated[df_aggregated['review_group'] == 'Bottom 100'][f'{amenity}_present']\n",
    "    \n",
    "    # Conduct t-test\n",
    "    t_stat, p_value = ttest_ind(top_100, btm_100, equal_var=False)\n",
    "    \n",
    "    t_test_results.append({'Amenity': amenity, 'T-Statistic': t_stat, 'P-Value': p_value})\n",
    "\n",
    "# Convert results to DataFrame\n",
    "t_test_df = pd.DataFrame(t_test_results)"
   ]
  },
  {
   "cell_type": "markdown",
   "metadata": {},
   "source": [
    "### Convert prices to SGD"
   ]
  },
  {
   "cell_type": "code",
   "execution_count": 10,
   "metadata": {},
   "outputs": [
    {
     "name": "stdout",
     "output_type": "stream",
     "text": [
      "       price  price_cleaned\n",
      "0     1150.0         1150.0\n",
      "1     1152.0         1152.0\n",
      "2     1000.0         1000.0\n",
      "3     1200.0         1200.0\n",
      "4      749.0          749.0\n",
      "..       ...            ...\n",
      "595  19029.0        19029.0\n",
      "596   8571.0         8571.0\n",
      "597  19571.0        19571.0\n",
      "598  12286.0        12286.0\n",
      "599   3500.0         3500.0\n",
      "\n",
      "[600 rows x 2 columns]\n",
      "Number of NaN values in 'price_cleaned': 0\n"
     ]
    }
   ],
   "source": [
    "# Step 1: Ensure 'price' is treated as a string for cleaning\n",
    "df_combined_top_btm_100['price'] = df_combined_top_btm_100['price'].astype(str)\n",
    "\n",
    "# Step 2: Remove non-numeric characters ($ sign, commas) and strip spaces\n",
    "df_combined_top_btm_100['price_cleaned'] = df_combined_top_btm_100['price'].str.replace(r'[\\$,]', '', regex=True)  # Remove $ signs and commas\n",
    "df_combined_top_btm_100['price_cleaned'] = df_combined_top_btm_100['price_cleaned'].str.strip()                    # Remove extra spaces if any\n",
    "\n",
    "# Step 3: Convert the cleaned price to numeric (float)\n",
    "df_combined_top_btm_100['price_cleaned'] = pd.to_numeric(df_combined_top_btm_100['price_cleaned'], errors='coerce')  # Convert to float, invalid to NaN\n",
    "\n",
    "# Step 4: Check the cleaned prices\n",
    "print(df_combined_top_btm_100[['price', 'price_cleaned']])\n",
    "\n",
    "# Check for any NaN values\n",
    "print(\"Number of NaN values in 'price_cleaned':\", df_combined_top_btm_100['price_cleaned'].isnull().sum())"
   ]
  },
  {
   "cell_type": "code",
   "execution_count": 11,
   "metadata": {},
   "outputs": [
    {
     "name": "stdout",
     "output_type": "stream",
     "text": [
      "Number of NaN values in 'price_sgd': 0\n",
      "City\n",
      "Mexico City    200\n",
      "Paris          200\n",
      "Tokyo          200\n",
      "Name: count, dtype: int64\n"
     ]
    }
   ],
   "source": [
    "# Define exchange rates (approximate as of recent values)\n",
    "exchange_rates = {\n",
    "    'Hong Kong': 0.1670,        # HKD to SGD\n",
    "    'Mexico City': 0.076,     # MXN to SGD\n",
    "    'New York': 1.36,          # USD to SGD\n",
    "    'Paris': 1.62,            # EUR to SGD\n",
    "    'Rio De Janeiro': 0.24,   # BRL to SGD\n",
    "    'Tokyo': 0.0088           # JPY to SGD\n",
    "}\n",
    "\n",
    "# Function to clean and convert prices to USD based on city\n",
    "def convert_to_sgd(row):\n",
    "    city = row['City']\n",
    "    price_in_local_currency = row['price_cleaned']\n",
    "    \n",
    "    # Check if the price is a string and clean up '$' and commas\n",
    "    if isinstance(price_in_local_currency, str):\n",
    "        # Remove any '$' signs and commas\n",
    "        price_in_local_currency = price_in_local_currency.replace('$', '').replace(',', '')\n",
    "    \n",
    "    # Convert the cleaned price to float\n",
    "    try:\n",
    "        price_in_local_currency = float(price_in_local_currency)\n",
    "    except ValueError:\n",
    "        return None  # Return None for rows where conversion fails\n",
    "\n",
    "    # Get the conversion rate for the city\n",
    "    conversion_rate = exchange_rates.get(city, 1)  # Default to 1 if city is not found (USD assumed)\n",
    "\n",
    "    # Return the price converted to USD\n",
    "    return price_in_local_currency * conversion_rate\n",
    "\n",
    "# Apply the conversion to each row\n",
    "df_combined_top_btm_100['price_sgd'] = df_combined_top_btm_100.apply(convert_to_sgd, axis=1)\n",
    "\n",
    "# Now you can use 'price_usd' for all comparisons, as all prices are in USD\n",
    "# print(df[['City', 'price', 'price_sgd']].head())\n",
    "# print(df[['City', 'price', 'price_sgd']].tail())\n",
    "\n",
    "# Check for NaN values after conversion (in case of failed conversions)\n",
    "print(\"Number of NaN values in 'price_sgd':\", df_combined_top_btm_100['price_sgd'].isnull().sum())\n",
    "print(df_combined_top_btm_100['City'].value_counts())\n",
    "\n",
    "# Optionally drop rows with NaN prices if needed\n",
    "df_combined_top_btm_100_cleaned = df_combined_top_btm_100.dropna(subset=['price_sgd'])\n"
   ]
  },
  {
   "cell_type": "markdown",
   "metadata": {},
   "source": [
    "### Review vs Pricing Analysis"
   ]
  },
  {
   "cell_type": "code",
   "execution_count": 12,
   "metadata": {},
   "outputs": [
    {
     "name": "stdout",
     "output_type": "stream",
     "text": [
      "              count      mean       std       min       25%       50%  \\\n",
      "review_group                                                            \n",
      "Bottom 100    300.0  4.686182  0.796529  2.649573  4.112985  4.609922   \n",
      "Top 100       300.0  5.234137  0.943806  3.089951  4.541317  5.205869   \n",
      "\n",
      "                   75%       max  \n",
      "review_group                      \n",
      "Bottom 100    5.297537  6.972569  \n",
      "Top 100       5.916053  8.006241  \n"
     ]
    },
    {
     "data": {
      "application/vnd.plotly.v1+json": {
       "config": {
        "plotlyServerURL": "https://plot.ly"
       },
       "data": [
        {
         "alignmentgroup": "True",
         "hovertemplate": "Review Group=%{x}<br>Log Price (SGD)=%{y}<extra></extra>",
         "legendgroup": "",
         "marker": {
          "color": "#636efa"
         },
         "name": "",
         "notched": false,
         "offsetgroup": "",
         "orientation": "v",
         "showlegend": false,
         "type": "box",
         "x": [
          "Top 100",
          "Top 100",
          "Top 100",
          "Top 100",
          "Top 100",
          "Top 100",
          "Top 100",
          "Top 100",
          "Top 100",
          "Top 100",
          "Top 100",
          "Top 100",
          "Top 100",
          "Top 100",
          "Top 100",
          "Top 100",
          "Top 100",
          "Top 100",
          "Top 100",
          "Top 100",
          "Top 100",
          "Top 100",
          "Top 100",
          "Top 100",
          "Top 100",
          "Top 100",
          "Top 100",
          "Top 100",
          "Top 100",
          "Top 100",
          "Top 100",
          "Top 100",
          "Top 100",
          "Top 100",
          "Top 100",
          "Top 100",
          "Top 100",
          "Top 100",
          "Top 100",
          "Top 100",
          "Top 100",
          "Top 100",
          "Top 100",
          "Top 100",
          "Top 100",
          "Top 100",
          "Top 100",
          "Top 100",
          "Top 100",
          "Top 100",
          "Top 100",
          "Top 100",
          "Top 100",
          "Top 100",
          "Top 100",
          "Top 100",
          "Top 100",
          "Top 100",
          "Top 100",
          "Top 100",
          "Top 100",
          "Top 100",
          "Top 100",
          "Top 100",
          "Top 100",
          "Top 100",
          "Top 100",
          "Top 100",
          "Top 100",
          "Top 100",
          "Top 100",
          "Top 100",
          "Top 100",
          "Top 100",
          "Top 100",
          "Top 100",
          "Top 100",
          "Top 100",
          "Top 100",
          "Top 100",
          "Top 100",
          "Top 100",
          "Top 100",
          "Top 100",
          "Top 100",
          "Top 100",
          "Top 100",
          "Top 100",
          "Top 100",
          "Top 100",
          "Top 100",
          "Top 100",
          "Top 100",
          "Top 100",
          "Top 100",
          "Top 100",
          "Top 100",
          "Top 100",
          "Top 100",
          "Top 100",
          "Top 100",
          "Top 100",
          "Top 100",
          "Top 100",
          "Top 100",
          "Top 100",
          "Top 100",
          "Top 100",
          "Top 100",
          "Top 100",
          "Top 100",
          "Top 100",
          "Top 100",
          "Top 100",
          "Top 100",
          "Top 100",
          "Top 100",
          "Top 100",
          "Top 100",
          "Top 100",
          "Top 100",
          "Top 100",
          "Top 100",
          "Top 100",
          "Top 100",
          "Top 100",
          "Top 100",
          "Top 100",
          "Top 100",
          "Top 100",
          "Top 100",
          "Top 100",
          "Top 100",
          "Top 100",
          "Top 100",
          "Top 100",
          "Top 100",
          "Top 100",
          "Top 100",
          "Top 100",
          "Top 100",
          "Top 100",
          "Top 100",
          "Top 100",
          "Top 100",
          "Top 100",
          "Top 100",
          "Top 100",
          "Top 100",
          "Top 100",
          "Top 100",
          "Top 100",
          "Top 100",
          "Top 100",
          "Top 100",
          "Top 100",
          "Top 100",
          "Top 100",
          "Top 100",
          "Top 100",
          "Top 100",
          "Top 100",
          "Top 100",
          "Top 100",
          "Top 100",
          "Top 100",
          "Top 100",
          "Top 100",
          "Top 100",
          "Top 100",
          "Top 100",
          "Top 100",
          "Top 100",
          "Top 100",
          "Top 100",
          "Top 100",
          "Top 100",
          "Top 100",
          "Top 100",
          "Top 100",
          "Top 100",
          "Top 100",
          "Top 100",
          "Top 100",
          "Top 100",
          "Top 100",
          "Top 100",
          "Top 100",
          "Top 100",
          "Top 100",
          "Top 100",
          "Top 100",
          "Top 100",
          "Top 100",
          "Top 100",
          "Top 100",
          "Top 100",
          "Top 100",
          "Top 100",
          "Top 100",
          "Top 100",
          "Top 100",
          "Top 100",
          "Top 100",
          "Top 100",
          "Top 100",
          "Top 100",
          "Top 100",
          "Top 100",
          "Top 100",
          "Top 100",
          "Top 100",
          "Top 100",
          "Top 100",
          "Top 100",
          "Top 100",
          "Top 100",
          "Top 100",
          "Top 100",
          "Top 100",
          "Top 100",
          "Top 100",
          "Top 100",
          "Top 100",
          "Top 100",
          "Top 100",
          "Top 100",
          "Top 100",
          "Top 100",
          "Top 100",
          "Top 100",
          "Top 100",
          "Top 100",
          "Top 100",
          "Top 100",
          "Top 100",
          "Top 100",
          "Top 100",
          "Top 100",
          "Top 100",
          "Top 100",
          "Top 100",
          "Top 100",
          "Top 100",
          "Top 100",
          "Top 100",
          "Top 100",
          "Top 100",
          "Top 100",
          "Top 100",
          "Top 100",
          "Top 100",
          "Top 100",
          "Top 100",
          "Top 100",
          "Top 100",
          "Top 100",
          "Top 100",
          "Top 100",
          "Top 100",
          "Top 100",
          "Top 100",
          "Top 100",
          "Top 100",
          "Top 100",
          "Top 100",
          "Top 100",
          "Top 100",
          "Top 100",
          "Top 100",
          "Top 100",
          "Top 100",
          "Top 100",
          "Top 100",
          "Top 100",
          "Top 100",
          "Top 100",
          "Top 100",
          "Top 100",
          "Top 100",
          "Top 100",
          "Top 100",
          "Top 100",
          "Top 100",
          "Top 100",
          "Top 100",
          "Top 100",
          "Top 100",
          "Top 100",
          "Top 100",
          "Top 100",
          "Top 100",
          "Top 100",
          "Top 100",
          "Top 100",
          "Top 100",
          "Top 100",
          "Top 100",
          "Bottom 100",
          "Bottom 100",
          "Bottom 100",
          "Bottom 100",
          "Bottom 100",
          "Bottom 100",
          "Bottom 100",
          "Bottom 100",
          "Bottom 100",
          "Bottom 100",
          "Bottom 100",
          "Bottom 100",
          "Bottom 100",
          "Bottom 100",
          "Bottom 100",
          "Bottom 100",
          "Bottom 100",
          "Bottom 100",
          "Bottom 100",
          "Bottom 100",
          "Bottom 100",
          "Bottom 100",
          "Bottom 100",
          "Bottom 100",
          "Bottom 100",
          "Bottom 100",
          "Bottom 100",
          "Bottom 100",
          "Bottom 100",
          "Bottom 100",
          "Bottom 100",
          "Bottom 100",
          "Bottom 100",
          "Bottom 100",
          "Bottom 100",
          "Bottom 100",
          "Bottom 100",
          "Bottom 100",
          "Bottom 100",
          "Bottom 100",
          "Bottom 100",
          "Bottom 100",
          "Bottom 100",
          "Bottom 100",
          "Bottom 100",
          "Bottom 100",
          "Bottom 100",
          "Bottom 100",
          "Bottom 100",
          "Bottom 100",
          "Bottom 100",
          "Bottom 100",
          "Bottom 100",
          "Bottom 100",
          "Bottom 100",
          "Bottom 100",
          "Bottom 100",
          "Bottom 100",
          "Bottom 100",
          "Bottom 100",
          "Bottom 100",
          "Bottom 100",
          "Bottom 100",
          "Bottom 100",
          "Bottom 100",
          "Bottom 100",
          "Bottom 100",
          "Bottom 100",
          "Bottom 100",
          "Bottom 100",
          "Bottom 100",
          "Bottom 100",
          "Bottom 100",
          "Bottom 100",
          "Bottom 100",
          "Bottom 100",
          "Bottom 100",
          "Bottom 100",
          "Bottom 100",
          "Bottom 100",
          "Bottom 100",
          "Bottom 100",
          "Bottom 100",
          "Bottom 100",
          "Bottom 100",
          "Bottom 100",
          "Bottom 100",
          "Bottom 100",
          "Bottom 100",
          "Bottom 100",
          "Bottom 100",
          "Bottom 100",
          "Bottom 100",
          "Bottom 100",
          "Bottom 100",
          "Bottom 100",
          "Bottom 100",
          "Bottom 100",
          "Bottom 100",
          "Bottom 100",
          "Bottom 100",
          "Bottom 100",
          "Bottom 100",
          "Bottom 100",
          "Bottom 100",
          "Bottom 100",
          "Bottom 100",
          "Bottom 100",
          "Bottom 100",
          "Bottom 100",
          "Bottom 100",
          "Bottom 100",
          "Bottom 100",
          "Bottom 100",
          "Bottom 100",
          "Bottom 100",
          "Bottom 100",
          "Bottom 100",
          "Bottom 100",
          "Bottom 100",
          "Bottom 100",
          "Bottom 100",
          "Bottom 100",
          "Bottom 100",
          "Bottom 100",
          "Bottom 100",
          "Bottom 100",
          "Bottom 100",
          "Bottom 100",
          "Bottom 100",
          "Bottom 100",
          "Bottom 100",
          "Bottom 100",
          "Bottom 100",
          "Bottom 100",
          "Bottom 100",
          "Bottom 100",
          "Bottom 100",
          "Bottom 100",
          "Bottom 100",
          "Bottom 100",
          "Bottom 100",
          "Bottom 100",
          "Bottom 100",
          "Bottom 100",
          "Bottom 100",
          "Bottom 100",
          "Bottom 100",
          "Bottom 100",
          "Bottom 100",
          "Bottom 100",
          "Bottom 100",
          "Bottom 100",
          "Bottom 100",
          "Bottom 100",
          "Bottom 100",
          "Bottom 100",
          "Bottom 100",
          "Bottom 100",
          "Bottom 100",
          "Bottom 100",
          "Bottom 100",
          "Bottom 100",
          "Bottom 100",
          "Bottom 100",
          "Bottom 100",
          "Bottom 100",
          "Bottom 100",
          "Bottom 100",
          "Bottom 100",
          "Bottom 100",
          "Bottom 100",
          "Bottom 100",
          "Bottom 100",
          "Bottom 100",
          "Bottom 100",
          "Bottom 100",
          "Bottom 100",
          "Bottom 100",
          "Bottom 100",
          "Bottom 100",
          "Bottom 100",
          "Bottom 100",
          "Bottom 100",
          "Bottom 100",
          "Bottom 100",
          "Bottom 100",
          "Bottom 100",
          "Bottom 100",
          "Bottom 100",
          "Bottom 100",
          "Bottom 100",
          "Bottom 100",
          "Bottom 100",
          "Bottom 100",
          "Bottom 100",
          "Bottom 100",
          "Bottom 100",
          "Bottom 100",
          "Bottom 100",
          "Bottom 100",
          "Bottom 100",
          "Bottom 100",
          "Bottom 100",
          "Bottom 100",
          "Bottom 100",
          "Bottom 100",
          "Bottom 100",
          "Bottom 100",
          "Bottom 100",
          "Bottom 100",
          "Bottom 100",
          "Bottom 100",
          "Bottom 100",
          "Bottom 100",
          "Bottom 100",
          "Bottom 100",
          "Bottom 100",
          "Bottom 100",
          "Bottom 100",
          "Bottom 100",
          "Bottom 100",
          "Bottom 100",
          "Bottom 100",
          "Bottom 100",
          "Bottom 100",
          "Bottom 100",
          "Bottom 100",
          "Bottom 100",
          "Bottom 100",
          "Bottom 100",
          "Bottom 100",
          "Bottom 100",
          "Bottom 100",
          "Bottom 100",
          "Bottom 100",
          "Bottom 100",
          "Bottom 100",
          "Bottom 100",
          "Bottom 100",
          "Bottom 100",
          "Bottom 100",
          "Bottom 100",
          "Bottom 100",
          "Bottom 100",
          "Bottom 100",
          "Bottom 100",
          "Bottom 100",
          "Bottom 100",
          "Bottom 100",
          "Bottom 100",
          "Bottom 100",
          "Bottom 100",
          "Bottom 100",
          "Bottom 100",
          "Bottom 100",
          "Bottom 100",
          "Bottom 100",
          "Bottom 100",
          "Bottom 100",
          "Bottom 100",
          "Bottom 100",
          "Bottom 100",
          "Bottom 100",
          "Bottom 100",
          "Bottom 100",
          "Bottom 100",
          "Bottom 100",
          "Bottom 100",
          "Bottom 100",
          "Bottom 100",
          "Bottom 100",
          "Bottom 100",
          "Bottom 100",
          "Bottom 100",
          "Bottom 100",
          "Bottom 100",
          "Bottom 100",
          "Bottom 100",
          "Bottom 100",
          "Bottom 100",
          "Bottom 100",
          "Bottom 100",
          "Bottom 100",
          "Bottom 100",
          "Bottom 100",
          "Bottom 100",
          "Bottom 100",
          "Bottom 100",
          "Bottom 100",
          "Bottom 100",
          "Bottom 100",
          "Bottom 100",
          "Bottom 100",
          "Bottom 100",
          "Bottom 100",
          "Bottom 100",
          "Bottom 100",
          "Bottom 100",
          "Bottom 100"
         ],
         "x0": " ",
         "xaxis": "x",
         "y": [
          4.481871969643597,
          4.4835899500833225,
          4.343805421853684,
          4.523960130562548,
          4.059131806466356,
          4.597057365877541,
          4.869071729774468,
          4.52642996304626,
          5.713812010293379,
          4.619033642647245,
          4.920272854015864,
          4.160132302760104,
          4.499765224898137,
          3.906326812883265,
          3.9334713366340157,
          4.884709193497406,
          3.4468078929142076,
          3.6904781754776335,
          6.118511209243182,
          4.2626235374261,
          4.205349120265012,
          5.669191029886582,
          4.971090261690504,
          5.632601496723711,
          3.6635616461296463,
          3.756538102587751,
          4.716103146694393,
          3.3714252233284854,
          5.063657759272579,
          3.4468078929142076,
          4.999668713703071,
          4.060443010546419,
          3.6238074573702215,
          3.6635616461296463,
          4.257256747717932,
          4.342817921448601,
          4.120207221747828,
          3.97855952922839,
          4.424367475163407,
          4.450432667337942,
          3.873697891106478,
          3.680948083787656,
          4.998130770735515,
          5.291292751611072,
          5.346383459117075,
          5.422709624211019,
          4.481871969643597,
          5.454089588108455,
          6.667638493860216,
          3.317815772723104,
          4.123903364463645,
          4.808927023502111,
          4.603168183317418,
          4.244257704928986,
          6.278521424165844,
          4.437934266612178,
          3.5610460826040513,
          4.869071729774468,
          5.020955193614208,
          4.534618958037055,
          3.9926809084456005,
          4.032540077974984,
          4.771667192435075,
          4.916939809968932,
          3.7845532041822185,
          4.5893659544431245,
          4.590908976635822,
          4.575370554749572,
          6.12035016481261,
          3.9214979757906643,
          3.6012497041529623,
          5.851155955347269,
          4.294233133723212,
          4.673725628483597,
          4.844250076600654,
          4.543550068830553,
          6.696777424566799,
          4.47410432287479,
          4.523960130562548,
          3.0899509487929726,
          4.031191747216832,
          3.934957976710642,
          4.756757583412185,
          4.838850035057188,
          4.720176035497179,
          5.606140244401453,
          4.134910523968762,
          3.77413929806476,
          4.696180224331455,
          4.902366850808458,
          3.093403300727437,
          4.619033642647245,
          3.898654037689192,
          4.845446136042602,
          4.4548587933235515,
          4.967922624486851,
          3.8350555642715376,
          3.317815772723104,
          5.4998531422657955,
          4.74493212836325,
          6.359089322232966,
          6.18826412308259,
          5.695279762164452,
          6.342121418721152,
          7.167809184316444,
          4.9890711161804155,
          7.1244138481805415,
          5.860558277260183,
          5.732693818150621,
          7.530479995245536,
          5.18850250054083,
          5.927512520615465,
          6.119417911418443,
          6.47543271670409,
          6.171491807348564,
          6.561483180186777,
          5.503785626182238,
          5.645022779449278,
          5.561450566078405,
          5.878855602725328,
          5.113432527350917,
          5.490506742540341,
          5.377405772867,
          5.1422481808981475,
          5.362324496522329,
          4.696289779355575,
          6.712153934840951,
          5.727433894987482,
          5.878855602725328,
          5.662057294608887,
          5.567657244751953,
          6.233783077808233,
          6.651235899844207,
          6.42422051545205,
          5.793745048133931,
          5.813294361436504,
          5.414142932053627,
          6.977113417084449,
          7.012745726173074,
          5.936110386975905,
          6.178234528307833,
          6.480412592354655,
          5.151671786206552,
          5.716830313505459,
          6.992114809599876,
          5.307673461472062,
          6.18826412308259,
          4.808111029984782,
          5.918840089386981,
          6.651235899844207,
          5.093750200806762,
          4.725439018379036,
          4.58700621536042,
          6.108669638008687,
          5.673254536287243,
          6.593044534142437,
          6.101439400316554,
          6.880384082186005,
          5.2914941411999115,
          5.96563378707346,
          6.336400862141324,
          7.211792867793484,
          6.890324237252457,
          6.154433375386121,
          5.377405772867,
          5.103639787544498,
          6.802505868263039,
          5.497168225293202,
          5.470251830455505,
          6.638593966834354,
          5.093750200806762,
          5.456516981221582,
          6.455261454444196,
          5.435554384853122,
          5.878855602725328,
          4.8721392168423305,
          6.261987744468967,
          4.426282725928419,
          6.809679277817793,
          7.3847841731646255,
          6.54532092428936,
          5.1422481808981475,
          6.342121418721152,
          4.603368564041463,
          6.880384082186005,
          5.860558277260183,
          6.485367791678024,
          6.115847974398014,
          5.732693818150621,
          5.957287095306396,
          5.249862146278633,
          5.561450566078405,
          6.108669638008687,
          5.497168225293202,
          5.678806488586024,
          6.0607107198447965,
          5.392262979390565,
          6.252674299228648,
          5.412788256433817,
          4.958814141117624,
          5.176149732573829,
          5.408580644003801,
          4.48863636973214,
          6.130727234441298,
          5.960227717766124,
          5.85046073393039,
          6.097153408854331,
          5.031201028844676,
          5.190268796863516,
          5.751151947581888,
          4.91833870220435,
          5.280128955703172,
          6.1410666119390065,
          4.204692619390966,
          4.136765278106052,
          5.416196397596715,
          4.582924577040772,
          6.266720737055553,
          5.36290588643565,
          3.703768066607687,
          5.808188134584358,
          5.39245231057871,
          4.576787172236264,
          5.579729825986222,
          4.328098292648326,
          5.764987947353939,
          3.703768066607687,
          5.351581317914989,
          5.9708617597691225,
          5.744386845498141,
          5.480048749223501,
          4.527424837363238,
          5.019639963431032,
          5.67741112043393,
          5.974381458511916,
          5.807791677702261,
          5.250571456954957,
          5.463140040387888,
          5.328796133841451,
          6.3309379898868965,
          4.755925393432281,
          6.554621486331195,
          5.262681898715082,
          6.44902103105196,
          4.749395197515201,
          5.159657416755949,
          6.521884541192056,
          5.014627315365793,
          5.214483481434491,
          5.074558626043755,
          4.030992892053755,
          4.901599886137444,
          6.09828100237118,
          4.268297869345539,
          5.197254270408074,
          6.089044875446846,
          5.194182765816016,
          5.32747220371153,
          6.071917632103687,
          5.894563702867503,
          4.954417614098027,
          4.890349128221754,
          6.197020743597064,
          4.053091919430633,
          6.58285581871354,
          5.26413991474645,
          4.210324491777798,
          5.490486938730087,
          4.841954675222013,
          6.540199640107187,
          6.106001430820688,
          4.095730268354403,
          4.054008560699226,
          6.086187281672862,
          5.859689325797223,
          4.400092460485508,
          5.915123313851259,
          5.3855807117909995,
          5.644032470250427,
          4.136765278106052,
          4.268297869345539,
          4.954417614098027,
          3.498275694367508,
          3.633282174011527,
          5.019639963431032,
          4.968284353555726,
          5.603163293678215,
          4.815852416551005,
          4.569974003536069,
          5.1689646596142165,
          4.692418868151955,
          4.803515999186435,
          5.859312773799502,
          4.3687083385876955,
          6.5200318523501295,
          4.453621451496577,
          5.051511047171494,
          4.715143247481732,
          5.641538208590521,
          3.88936831486334,
          3.51915817929572,
          3.1855258451866466,
          4.123903364463645,
          4.515683019486556,
          2.6495732713432343,
          3.2727577658172433,
          4.401338945706255,
          3.2582503723422223,
          3.4468078929142076,
          3.718535339021447,
          3.036682259882945,
          4.744271040327482,
          4.175432876904207,
          4.296305334268403,
          4.131254916242198,
          3.4468078929142076,
          4.311711460758856,
          3.41483726736619,
          4.523960130562548,
          4.343805421853684,
          3.9926809084456005,
          4.403200869905288,
          4.437035517704681,
          3.5781713321295148,
          4.023063360217137,
          3.172873770306403,
          4.396668911410751,
          4.280658140285593,
          4.611510046534271,
          4.099000373758295,
          3.5610460826040513,
          4.62426668167908,
          4.023063360217137,
          4.020339148911605,
          4.437035517704681,
          5.26413991474645,
          4.587046947728402,
          4.437934266612178,
          4.311711460758856,
          3.6999183012291526,
          4.744271040327482,
          3.3997296383871207,
          4.532169293103601,
          4.437934266612178,
          3.5760466458395928,
          3.412335126072611,
          4.114016462019565,
          3.919991175077323,
          4.198524381131764,
          5.821873610992843,
          5.921020623353716,
          4.763267353891181,
          3.7277154778991344,
          3.919991175077323,
          4.839451481712757,
          3.688579409104934,
          4.229982068764199,
          5.023459379547148,
          4.579277854022141,
          4.487017081864819,
          5.380560727929053,
          4.267961678385909,
          4.116497366863234,
          3.8831295817731646,
          4.401338945706255,
          3.9394046821693633,
          3.2375798096619723,
          5.026456148436397,
          4.596290881381496,
          4.62426668167908,
          3.040323156881866,
          4.21662119025624,
          3.5610460826040513,
          3.5032725063284524,
          3.2582503723422223,
          4.157757450072162,
          4.507336825639328,
          3.163278544765791,
          3.6298722735339037,
          4.097738795290116,
          4.473237514727265,
          4.9307547954883395,
          3.374031713589386,
          3.859381434102549,
          5.812373765734153,
          4.654379310000638,
          3.477787983823868,
          3.5214071001701877,
          4.100260362651405,
          4.3633533694082605,
          3.9511667925457727,
          4.247523341335403,
          3.6828613817883733,
          4.744271040327482,
          4.060443010546419,
          3.5824072096034194,
          4.1445939786252275,
          3.6136169696133895,
          5.727433894987482,
          5.732693818150621,
          5.083761832420361,
          4.603368564041463,
          5.936110386975905,
          6.255788428732508,
          6.178234528307833,
          5.456516981221582,
          5.6335030616437844,
          5.598125618797658,
          5.456516981221582,
          4.186619838331271,
          4.847017722096073,
          5.354697699984144,
          4.932313327320786,
          5.215261791410711,
          4.234686046775173,
          6.05312392749471,
          5.645022779449278,
          5.567657244751953,
          5.689818767638815,
          5.639279508442102,
          4.884467201905432,
          5.837205528078911,
          5.215261791410711,
          5.463407986413629,
          5.377405772867,
          5.093750200806762,
          4.884467201905432,
          5.113432527350917,
          5.598125618797658,
          5.435554384853122,
          5.399609618029909,
          4.966753066279407,
          5.860558277260183,
          4.9890711161804155,
          5.592105757431579,
          5.362324496522329,
          5.406902676961478,
          5.053183797342212,
          5.6276930535489464,
          5.2064213518435,
          5.18850250054083,
          5.684327786822066,
          5.788797415648597,
          5.678806488586024,
          6.3161172069238525,
          4.725439018379036,
          5.470251830455505,
          5.827709559887866,
          4.603368564041463,
          5.132734925758359,
          4.966753066279407,
          5.000046092541988,
          5.31566600488265,
          5.275048739608683,
          5.093750200806762,
          5.042779747422823,
          5.555205123826408,
          5.927512520615465,
          4.482776537774025,
          4.302712827954156,
          5.275048739608683,
          5.03226631422255,
          6.233783077808233,
          5.615970777495802,
          4.966753066279407,
          5.722146158673159,
          5.990263826531463,
          5.123130298654681,
          4.536248740521669,
          5.093750200806762,
          4.345621952780082,
          5.6276930535489464,
          5.678806488586024,
          5.936110386975905,
          5.083761832420361,
          5.763685267389244,
          5.093750200806762,
          5.2914941411999115,
          4.109889773557563,
          4.834216282954915,
          5.555205123826408,
          4.500920164614293,
          6.347809436584733,
          5.384861967948223,
          5.990263826531463,
          5.07367268910756,
          5.103639787544498,
          5.732693818150621,
          4.966753066279407,
          5.093750200806762,
          5.573825638068109,
          6.972568762314139,
          4.234686046775173,
          5.113432527350917,
          5.773805926024342,
          5.083761832420361,
          5.428468051013081,
          5.6276930535489464,
          3.0500689322069654,
          3.7887066893723422,
          4.715143247481732,
          4.465733390746874,
          4.556853509705576,
          4.012859704038123,
          5.270946169751904,
          4.922896379788249,
          4.068260648888221,
          4.45709700072086,
          4.66668664529334,
          4.8615535233927645,
          4.4393894720623575,
          4.012859704038123,
          4.530179362697504,
          5.670369079674719,
          4.995989905354543,
          4.617067135800065,
          4.012859704038123,
          4.24510665010829,
          4.012859704038123,
          5.0555015794363065,
          4.268297869345539,
          5.652898920874906,
          4.569974003536069,
          4.012859704038123,
          4.459950175421575,
          4.3363072508287575,
          5.64568149909743,
          4.028176269283217,
          4.333077957941997,
          3.1678688052895803,
          5.927606327845939,
          5.619731076240859,
          3.459466289786131,
          3.968781339246755,
          4.008394440084098,
          4.003748586409682,
          4.595709575202474,
          4.4393894720623575,
          6.099249321873683,
          4.9849755473156785,
          4.48863636973214,
          4.569974003536069,
          4.126734305023752,
          4.836942006498144,
          4.136765278106052,
          4.692418868151955,
          5.153878705351461,
          4.554264185013817,
          4.24510665010829,
          4.24510665010829,
          5.031201028844676,
          4.6712275530949325,
          3.7667659927710075,
          3.4829862562062543,
          5.733341276897746,
          5.657210648155339,
          5.394652475478469,
          4.002302370057868,
          4.380345221891344,
          4.608333178449226,
          4.2914452564426435,
          4.585081757854743,
          4.890349128221754,
          5.027054426044549,
          6.023060108697733,
          3.3105430133940246,
          5.39245231057871,
          4.8747453126628315,
          5.166156462945698,
          4.074563534692644,
          5.071416766356115,
          5.7446966249299845,
          3.224396557540899,
          5.270946169751904,
          5.560958515756333,
          3.820451428331404,
          4.212542326681419,
          3.7579763201932628,
          4.954417614098027,
          4.536891345234797,
          3.60282035084046,
          6.267655852844265,
          4.737439782883101,
          3.9125188824608057,
          5.354580490846991,
          3.985273467167739,
          3.6849517507759564,
          4.515079162661033,
          5.474788509663816,
          4.929280615053424,
          4.608333178449226,
          4.598193908251446,
          5.600597368855375,
          5.126669839070374,
          4.3363072508287575,
          5.15459017294502,
          4.692418868151955,
          3.459466289786131
         ],
         "y0": " ",
         "yaxis": "y"
        }
       ],
       "layout": {
        "boxmode": "group",
        "legend": {
         "tracegroupgap": 0
        },
        "template": {
         "data": {
          "bar": [
           {
            "error_x": {
             "color": "#2a3f5f"
            },
            "error_y": {
             "color": "#2a3f5f"
            },
            "marker": {
             "line": {
              "color": "#E5ECF6",
              "width": 0.5
             },
             "pattern": {
              "fillmode": "overlay",
              "size": 10,
              "solidity": 0.2
             }
            },
            "type": "bar"
           }
          ],
          "barpolar": [
           {
            "marker": {
             "line": {
              "color": "#E5ECF6",
              "width": 0.5
             },
             "pattern": {
              "fillmode": "overlay",
              "size": 10,
              "solidity": 0.2
             }
            },
            "type": "barpolar"
           }
          ],
          "carpet": [
           {
            "aaxis": {
             "endlinecolor": "#2a3f5f",
             "gridcolor": "white",
             "linecolor": "white",
             "minorgridcolor": "white",
             "startlinecolor": "#2a3f5f"
            },
            "baxis": {
             "endlinecolor": "#2a3f5f",
             "gridcolor": "white",
             "linecolor": "white",
             "minorgridcolor": "white",
             "startlinecolor": "#2a3f5f"
            },
            "type": "carpet"
           }
          ],
          "choropleth": [
           {
            "colorbar": {
             "outlinewidth": 0,
             "ticks": ""
            },
            "type": "choropleth"
           }
          ],
          "contour": [
           {
            "colorbar": {
             "outlinewidth": 0,
             "ticks": ""
            },
            "colorscale": [
             [
              0,
              "#0d0887"
             ],
             [
              0.1111111111111111,
              "#46039f"
             ],
             [
              0.2222222222222222,
              "#7201a8"
             ],
             [
              0.3333333333333333,
              "#9c179e"
             ],
             [
              0.4444444444444444,
              "#bd3786"
             ],
             [
              0.5555555555555556,
              "#d8576b"
             ],
             [
              0.6666666666666666,
              "#ed7953"
             ],
             [
              0.7777777777777778,
              "#fb9f3a"
             ],
             [
              0.8888888888888888,
              "#fdca26"
             ],
             [
              1,
              "#f0f921"
             ]
            ],
            "type": "contour"
           }
          ],
          "contourcarpet": [
           {
            "colorbar": {
             "outlinewidth": 0,
             "ticks": ""
            },
            "type": "contourcarpet"
           }
          ],
          "heatmap": [
           {
            "colorbar": {
             "outlinewidth": 0,
             "ticks": ""
            },
            "colorscale": [
             [
              0,
              "#0d0887"
             ],
             [
              0.1111111111111111,
              "#46039f"
             ],
             [
              0.2222222222222222,
              "#7201a8"
             ],
             [
              0.3333333333333333,
              "#9c179e"
             ],
             [
              0.4444444444444444,
              "#bd3786"
             ],
             [
              0.5555555555555556,
              "#d8576b"
             ],
             [
              0.6666666666666666,
              "#ed7953"
             ],
             [
              0.7777777777777778,
              "#fb9f3a"
             ],
             [
              0.8888888888888888,
              "#fdca26"
             ],
             [
              1,
              "#f0f921"
             ]
            ],
            "type": "heatmap"
           }
          ],
          "heatmapgl": [
           {
            "colorbar": {
             "outlinewidth": 0,
             "ticks": ""
            },
            "colorscale": [
             [
              0,
              "#0d0887"
             ],
             [
              0.1111111111111111,
              "#46039f"
             ],
             [
              0.2222222222222222,
              "#7201a8"
             ],
             [
              0.3333333333333333,
              "#9c179e"
             ],
             [
              0.4444444444444444,
              "#bd3786"
             ],
             [
              0.5555555555555556,
              "#d8576b"
             ],
             [
              0.6666666666666666,
              "#ed7953"
             ],
             [
              0.7777777777777778,
              "#fb9f3a"
             ],
             [
              0.8888888888888888,
              "#fdca26"
             ],
             [
              1,
              "#f0f921"
             ]
            ],
            "type": "heatmapgl"
           }
          ],
          "histogram": [
           {
            "marker": {
             "pattern": {
              "fillmode": "overlay",
              "size": 10,
              "solidity": 0.2
             }
            },
            "type": "histogram"
           }
          ],
          "histogram2d": [
           {
            "colorbar": {
             "outlinewidth": 0,
             "ticks": ""
            },
            "colorscale": [
             [
              0,
              "#0d0887"
             ],
             [
              0.1111111111111111,
              "#46039f"
             ],
             [
              0.2222222222222222,
              "#7201a8"
             ],
             [
              0.3333333333333333,
              "#9c179e"
             ],
             [
              0.4444444444444444,
              "#bd3786"
             ],
             [
              0.5555555555555556,
              "#d8576b"
             ],
             [
              0.6666666666666666,
              "#ed7953"
             ],
             [
              0.7777777777777778,
              "#fb9f3a"
             ],
             [
              0.8888888888888888,
              "#fdca26"
             ],
             [
              1,
              "#f0f921"
             ]
            ],
            "type": "histogram2d"
           }
          ],
          "histogram2dcontour": [
           {
            "colorbar": {
             "outlinewidth": 0,
             "ticks": ""
            },
            "colorscale": [
             [
              0,
              "#0d0887"
             ],
             [
              0.1111111111111111,
              "#46039f"
             ],
             [
              0.2222222222222222,
              "#7201a8"
             ],
             [
              0.3333333333333333,
              "#9c179e"
             ],
             [
              0.4444444444444444,
              "#bd3786"
             ],
             [
              0.5555555555555556,
              "#d8576b"
             ],
             [
              0.6666666666666666,
              "#ed7953"
             ],
             [
              0.7777777777777778,
              "#fb9f3a"
             ],
             [
              0.8888888888888888,
              "#fdca26"
             ],
             [
              1,
              "#f0f921"
             ]
            ],
            "type": "histogram2dcontour"
           }
          ],
          "mesh3d": [
           {
            "colorbar": {
             "outlinewidth": 0,
             "ticks": ""
            },
            "type": "mesh3d"
           }
          ],
          "parcoords": [
           {
            "line": {
             "colorbar": {
              "outlinewidth": 0,
              "ticks": ""
             }
            },
            "type": "parcoords"
           }
          ],
          "pie": [
           {
            "automargin": true,
            "type": "pie"
           }
          ],
          "scatter": [
           {
            "fillpattern": {
             "fillmode": "overlay",
             "size": 10,
             "solidity": 0.2
            },
            "type": "scatter"
           }
          ],
          "scatter3d": [
           {
            "line": {
             "colorbar": {
              "outlinewidth": 0,
              "ticks": ""
             }
            },
            "marker": {
             "colorbar": {
              "outlinewidth": 0,
              "ticks": ""
             }
            },
            "type": "scatter3d"
           }
          ],
          "scattercarpet": [
           {
            "marker": {
             "colorbar": {
              "outlinewidth": 0,
              "ticks": ""
             }
            },
            "type": "scattercarpet"
           }
          ],
          "scattergeo": [
           {
            "marker": {
             "colorbar": {
              "outlinewidth": 0,
              "ticks": ""
             }
            },
            "type": "scattergeo"
           }
          ],
          "scattergl": [
           {
            "marker": {
             "colorbar": {
              "outlinewidth": 0,
              "ticks": ""
             }
            },
            "type": "scattergl"
           }
          ],
          "scattermapbox": [
           {
            "marker": {
             "colorbar": {
              "outlinewidth": 0,
              "ticks": ""
             }
            },
            "type": "scattermapbox"
           }
          ],
          "scatterpolar": [
           {
            "marker": {
             "colorbar": {
              "outlinewidth": 0,
              "ticks": ""
             }
            },
            "type": "scatterpolar"
           }
          ],
          "scatterpolargl": [
           {
            "marker": {
             "colorbar": {
              "outlinewidth": 0,
              "ticks": ""
             }
            },
            "type": "scatterpolargl"
           }
          ],
          "scatterternary": [
           {
            "marker": {
             "colorbar": {
              "outlinewidth": 0,
              "ticks": ""
             }
            },
            "type": "scatterternary"
           }
          ],
          "surface": [
           {
            "colorbar": {
             "outlinewidth": 0,
             "ticks": ""
            },
            "colorscale": [
             [
              0,
              "#0d0887"
             ],
             [
              0.1111111111111111,
              "#46039f"
             ],
             [
              0.2222222222222222,
              "#7201a8"
             ],
             [
              0.3333333333333333,
              "#9c179e"
             ],
             [
              0.4444444444444444,
              "#bd3786"
             ],
             [
              0.5555555555555556,
              "#d8576b"
             ],
             [
              0.6666666666666666,
              "#ed7953"
             ],
             [
              0.7777777777777778,
              "#fb9f3a"
             ],
             [
              0.8888888888888888,
              "#fdca26"
             ],
             [
              1,
              "#f0f921"
             ]
            ],
            "type": "surface"
           }
          ],
          "table": [
           {
            "cells": {
             "fill": {
              "color": "#EBF0F8"
             },
             "line": {
              "color": "white"
             }
            },
            "header": {
             "fill": {
              "color": "#C8D4E3"
             },
             "line": {
              "color": "white"
             }
            },
            "type": "table"
           }
          ]
         },
         "layout": {
          "annotationdefaults": {
           "arrowcolor": "#2a3f5f",
           "arrowhead": 0,
           "arrowwidth": 1
          },
          "autotypenumbers": "strict",
          "coloraxis": {
           "colorbar": {
            "outlinewidth": 0,
            "ticks": ""
           }
          },
          "colorscale": {
           "diverging": [
            [
             0,
             "#8e0152"
            ],
            [
             0.1,
             "#c51b7d"
            ],
            [
             0.2,
             "#de77ae"
            ],
            [
             0.3,
             "#f1b6da"
            ],
            [
             0.4,
             "#fde0ef"
            ],
            [
             0.5,
             "#f7f7f7"
            ],
            [
             0.6,
             "#e6f5d0"
            ],
            [
             0.7,
             "#b8e186"
            ],
            [
             0.8,
             "#7fbc41"
            ],
            [
             0.9,
             "#4d9221"
            ],
            [
             1,
             "#276419"
            ]
           ],
           "sequential": [
            [
             0,
             "#0d0887"
            ],
            [
             0.1111111111111111,
             "#46039f"
            ],
            [
             0.2222222222222222,
             "#7201a8"
            ],
            [
             0.3333333333333333,
             "#9c179e"
            ],
            [
             0.4444444444444444,
             "#bd3786"
            ],
            [
             0.5555555555555556,
             "#d8576b"
            ],
            [
             0.6666666666666666,
             "#ed7953"
            ],
            [
             0.7777777777777778,
             "#fb9f3a"
            ],
            [
             0.8888888888888888,
             "#fdca26"
            ],
            [
             1,
             "#f0f921"
            ]
           ],
           "sequentialminus": [
            [
             0,
             "#0d0887"
            ],
            [
             0.1111111111111111,
             "#46039f"
            ],
            [
             0.2222222222222222,
             "#7201a8"
            ],
            [
             0.3333333333333333,
             "#9c179e"
            ],
            [
             0.4444444444444444,
             "#bd3786"
            ],
            [
             0.5555555555555556,
             "#d8576b"
            ],
            [
             0.6666666666666666,
             "#ed7953"
            ],
            [
             0.7777777777777778,
             "#fb9f3a"
            ],
            [
             0.8888888888888888,
             "#fdca26"
            ],
            [
             1,
             "#f0f921"
            ]
           ]
          },
          "colorway": [
           "#636efa",
           "#EF553B",
           "#00cc96",
           "#ab63fa",
           "#FFA15A",
           "#19d3f3",
           "#FF6692",
           "#B6E880",
           "#FF97FF",
           "#FECB52"
          ],
          "font": {
           "color": "#2a3f5f"
          },
          "geo": {
           "bgcolor": "white",
           "lakecolor": "white",
           "landcolor": "#E5ECF6",
           "showlakes": true,
           "showland": true,
           "subunitcolor": "white"
          },
          "hoverlabel": {
           "align": "left"
          },
          "hovermode": "closest",
          "mapbox": {
           "style": "light"
          },
          "paper_bgcolor": "white",
          "plot_bgcolor": "#E5ECF6",
          "polar": {
           "angularaxis": {
            "gridcolor": "white",
            "linecolor": "white",
            "ticks": ""
           },
           "bgcolor": "#E5ECF6",
           "radialaxis": {
            "gridcolor": "white",
            "linecolor": "white",
            "ticks": ""
           }
          },
          "scene": {
           "xaxis": {
            "backgroundcolor": "#E5ECF6",
            "gridcolor": "white",
            "gridwidth": 2,
            "linecolor": "white",
            "showbackground": true,
            "ticks": "",
            "zerolinecolor": "white"
           },
           "yaxis": {
            "backgroundcolor": "#E5ECF6",
            "gridcolor": "white",
            "gridwidth": 2,
            "linecolor": "white",
            "showbackground": true,
            "ticks": "",
            "zerolinecolor": "white"
           },
           "zaxis": {
            "backgroundcolor": "#E5ECF6",
            "gridcolor": "white",
            "gridwidth": 2,
            "linecolor": "white",
            "showbackground": true,
            "ticks": "",
            "zerolinecolor": "white"
           }
          },
          "shapedefaults": {
           "line": {
            "color": "#2a3f5f"
           }
          },
          "ternary": {
           "aaxis": {
            "gridcolor": "white",
            "linecolor": "white",
            "ticks": ""
           },
           "baxis": {
            "gridcolor": "white",
            "linecolor": "white",
            "ticks": ""
           },
           "bgcolor": "#E5ECF6",
           "caxis": {
            "gridcolor": "white",
            "linecolor": "white",
            "ticks": ""
           }
          },
          "title": {
           "x": 0.05
          },
          "xaxis": {
           "automargin": true,
           "gridcolor": "white",
           "linecolor": "white",
           "ticks": "",
           "title": {
            "standoff": 15
           },
           "zerolinecolor": "white",
           "zerolinewidth": 2
          },
          "yaxis": {
           "automargin": true,
           "gridcolor": "white",
           "linecolor": "white",
           "ticks": "",
           "title": {
            "standoff": 15
           },
           "zerolinecolor": "white",
           "zerolinewidth": 2
          }
         }
        },
        "title": {
         "text": "Price Distribution for Top 100 vs Bottom 100 Listings"
        },
        "xaxis": {
         "anchor": "y",
         "domain": [
          0,
          1
         ],
         "title": {
          "text": "Review Group"
         }
        },
        "yaxis": {
         "anchor": "x",
         "domain": [
          0,
          1
         ],
         "title": {
          "text": "Log Price (SGD)"
         }
        }
       }
      }
     },
     "metadata": {},
     "output_type": "display_data"
    }
   ],
   "source": [
    "# Filter out listings with price_sgd < 10\n",
    "df_combined_top_btm_100 = df_combined_top_btm_100[df_combined_top_btm_100['price_sgd'] >= 10]\n",
    "\n",
    "# Apply log transformation to the price column\n",
    "df_combined_top_btm_100['log_price_sgd'] = np.log(df_combined_top_btm_100['price_sgd'] + 1)  # Add 1 to avoid log(0)\n",
    "\n",
    "# Group by review group and calculate descriptive statistics\n",
    "price_stats = df_combined_top_btm_100.groupby('review_group')['log_price_sgd'].describe()\n",
    "print(price_stats)\n",
    "\n",
    "# Calculate Q1 (25th percentile) and Q3 (75th percentile) of log_price_sgd\n",
    "Q1 = df_combined_top_btm_100['log_price_sgd'].quantile(0.25)\n",
    "Q3 = df_combined_top_btm_100['log_price_sgd'].quantile(0.75)\n",
    "IQR = Q3 - Q1\n",
    "\n",
    "# Define the outlier cutoff range (1.5 * IQR rule)\n",
    "lower_bound = Q1 - 1.5 * IQR\n",
    "upper_bound = Q3 + 1.5 * IQR\n",
    "\n",
    "# Filter out the outliers\n",
    "df_combined_top_btm_100 = df_combined_top_btm_100[(df_combined_top_btm_100['log_price_sgd'] >= lower_bound) & (df_combined_top_btm_100['log_price_sgd'] <= upper_bound)]\n",
    "\n",
    "# Plot price distribution for top 100 and bottom 100 listings\n",
    "fig = px.box(df_combined_top_btm_100, x='review_group', y='log_price_sgd',\n",
    "             title='Price Distribution for Top 100 vs Bottom 100 Listings',\n",
    "             labels={'review_group': 'Review Group', 'log_price_sgd': 'Log Price (SGD)'})\n",
    "fig.show()\n"
   ]
  },
  {
   "cell_type": "markdown",
   "metadata": {},
   "source": [
    "#### T-test for Price Difference (Right-Tailed)"
   ]
  },
  {
   "cell_type": "code",
   "execution_count": 13,
   "metadata": {},
   "outputs": [
    {
     "name": "stdout",
     "output_type": "stream",
     "text": [
      "Hypotheses for the one-tailed (right-tailed) t-test:\n",
      "H₀ (Null Hypothesis): The mean price of the Top 100 listings is less than or equal to the Bottom 100 listings.\n",
      "H₁ (Alternative Hypothesis): The mean price of the Top 100 listings is greater than the Bottom 100 listings.\n",
      "\n",
      "T-statistic: 7.525124613375861, One-Tailed P-value: 1.0047282558254735e-13\n",
      "\n",
      "Conclusion: Reject H₀. The Top 100 listings have significantly higher prices than the Bottom 100 listings.\n"
     ]
    }
   ],
   "source": [
    "from scipy import stats\n",
    "\n",
    "# Step 1: Define the hypotheses\n",
    "print(\"Hypotheses for the one-tailed (right-tailed) t-test:\")\n",
    "print(\"H₀ (Null Hypothesis): The mean price of the Top 100 listings is less than or equal to the Bottom 100 listings.\")\n",
    "print(\"H₁ (Alternative Hypothesis): The mean price of the Top 100 listings is greater than the Bottom 100 listings.\\n\")\n",
    "\n",
    "# Step 2: Extract price data for the two groups\n",
    "top_100_prices = df_combined_top_btm_100[df_combined_top_btm_100['review_group'] == 'Top 100']['log_price_sgd']\n",
    "bottom_100_prices = df_combined_top_btm_100[df_combined_top_btm_100['review_group'] == 'Bottom 100']['log_price_sgd']\n",
    "\n",
    "# Step 3: Perform independent t-test\n",
    "t_stat, p_value_two_tailed = stats.ttest_ind(top_100_prices, bottom_100_prices, equal_var=False)  # Welch's t-test (unequal variance)\n",
    "\n",
    "# Step 4: Adjust p-value for one-tailed test\n",
    "p_value_one_tailed = p_value_two_tailed / 2  # Convert to one-tailed\n",
    "\n",
    "# Step 5: Check if t-statistic is positive (for a right-tailed test)\n",
    "if t_stat < 0:\n",
    "    p_value_one_tailed = 1.0  # If t_stat is negative, we do not have evidence for the right-tailed test\n",
    "\n",
    "# Step 6: Print the t-statistic and one-tailed p-value\n",
    "print(f\"T-statistic: {t_stat}, One-Tailed P-value: {p_value_one_tailed}\\n\")\n",
    "\n",
    "# Step 7: Hypothesis Conclusion\n",
    "alpha = 0.05  # significance level\n",
    "if p_value_one_tailed < alpha:\n",
    "    print(f\"Conclusion: Reject H₀. The Top 100 listings have significantly higher prices than the Bottom 100 listings.\")\n",
    "else:\n",
    "    print(f\"Conclusion: Fail to Reject H₀. There is no significant evidence that the Top 100 listings have higher prices than the Bottom 100 listings.\")\n"
   ]
  },
  {
   "cell_type": "markdown",
   "metadata": {},
   "source": [
    "#### T-test for Price Difference (Two-Tailed)"
   ]
  },
  {
   "cell_type": "code",
   "execution_count": 16,
   "metadata": {},
   "outputs": [
    {
     "name": "stdout",
     "output_type": "stream",
     "text": [
      "T-statistic: 7.525124613375861, P-value: 2.009456511650947e-13\n",
      "\n",
      "T-Test Hypotheses:\n",
      "H₀: There is no significant difference in prices between top 100 and bottom 100 listings.\n",
      "H₁: There is a significant difference in prices between top 100 and bottom 100 listings.\n",
      "\n",
      "Conclusion: Reject H₀. There is a significant difference in prices between top 100 and bottom 100 listings.\n"
     ]
    }
   ],
   "source": [
    "from scipy.stats import ttest_ind\n",
    "\n",
    "# Split data into top 100 and bottom 100 groups\n",
    "top_100_prices = df_combined_top_btm_100[df_combined_top_btm_100['review_group'] == 'Top 100']['log_price_sgd']\n",
    "bottom_100_prices = df_combined_top_btm_100[df_combined_top_btm_100['review_group'] == 'Bottom 100']['log_price_sgd']\n",
    "\n",
    "# Perform t-test\n",
    "t_stat, p_val = ttest_ind(top_100_prices, bottom_100_prices, equal_var=False)\n",
    "print(f\"T-statistic: {t_stat}, P-value: {p_val}\")\n",
    "\n",
    "# Define Hypotheses\n",
    "print(\"\\nT-Test Hypotheses:\")\n",
    "print(\"H₀: There is no significant difference in prices between top 100 and bottom 100 listings.\")\n",
    "print(\"H₁: There is a significant difference in prices between top 100 and bottom 100 listings.\\n\")\n",
    "\n",
    "# Conclusion based on p-value\n",
    "if p_val < 0.05:\n",
    "    print(\"Conclusion: Reject H₀. There is a significant difference in prices between top 100 and bottom 100 listings.\")\n",
    "else:\n",
    "    print(\"Conclusion: Fail to reject H₀. No significant difference in prices between top 100 and bottom 100 listings.\")\n"
   ]
  },
  {
   "cell_type": "markdown",
   "metadata": {},
   "source": [
    "### Analysis by Amenities Groups and Review Groups on Pricing"
   ]
  },
  {
   "cell_type": "markdown",
   "metadata": {},
   "source": [
    "#### Descriptive Analysis by Amenity Group"
   ]
  },
  {
   "cell_type": "code",
   "execution_count": 20,
   "metadata": {},
   "outputs": [],
   "source": [
    "# Define categories: Basic Only, Basic + Premium, and No Basic amenities\n",
    "df_combined_top_btm_100['amenity_group'] = 'No Basic Amenities'  # Default category\n",
    "\n",
    "# Assign listings with Basic only\n",
    "df_combined_top_btm_100.loc[\n",
    "    (df_combined_top_btm_100['comfort_present'] == 1) &\n",
    "    (df_combined_top_btm_100['entertainment_present'] == 1) &\n",
    "    (df_combined_top_btm_100['housekeeping_present'] == 1) &\n",
    "    (df_combined_top_btm_100['toilet equipping/ toiletries_present'] == 1) &\n",
    "    (df_combined_top_btm_100['kitchen appliances_present'] == 1) &\n",
    "    (df_combined_top_btm_100['safety_present'] == 1) &\n",
    "    ((df_combined_top_btm_100['workspace_present'] == 0) &\n",
    "    (df_combined_top_btm_100['outdoor_present'] == 0) &\n",
    "    (df_combined_top_btm_100['special amenities_present'] == 0) &\n",
    "    (df_combined_top_btm_100['accessibility_present'] == 0)),\n",
    "    'amenity_group'] = 'Basic Only'\n",
    "\n",
    "# Assign listings with both Basic + Premium\n",
    "df_combined_top_btm_100.loc[\n",
    "    (df_combined_top_btm_100['comfort_present'] == 1) &\n",
    "    (df_combined_top_btm_100['entertainment_present'] == 1) &\n",
    "    (df_combined_top_btm_100['housekeeping_present'] == 1) &\n",
    "    (df_combined_top_btm_100['toilet equipping/ toiletries_present'] == 1) &\n",
    "    (df_combined_top_btm_100['workspace_present'] == 1) &\n",
    "    (df_combined_top_btm_100['outdoor_present'] == 1) &\n",
    "    (df_combined_top_btm_100['special amenities_present'] == 1) &\n",
    "    (df_combined_top_btm_100['safety_present'] == 1) &\n",
    "    (df_combined_top_btm_100['accessibility_present'] == 1) &\n",
    "    (df_combined_top_btm_100['kitchen appliances_present'] == 1),\n",
    "    'amenity_group'] = 'Basic + Premium'\n"
   ]
  },
  {
   "cell_type": "code",
   "execution_count": 21,
   "metadata": {},
   "outputs": [
    {
     "name": "stdout",
     "output_type": "stream",
     "text": [
      "                    count      mean       std       min       25%       50%  \\\n",
      "amenity_group                                                                 \n",
      "Basic + Premium     102.0  5.298013  0.996817  3.050069  4.524578  5.232173   \n",
      "Basic Only           75.0  4.885256  0.699363  3.224397  4.336307  4.968284   \n",
      "No Basic Amenities  421.0  4.877911  0.890221  2.649573  4.175433  4.884467   \n",
      "\n",
      "                         75%       max  \n",
      "amenity_group                           \n",
      "Basic + Premium     6.091690  7.384784  \n",
      "Basic Only          5.442493  6.178235  \n",
      "No Basic Amenities  5.567657  7.530480  \n"
     ]
    }
   ],
   "source": [
    "# Calculate descriptive statistics for price by amenity group\n",
    "price_summary = df_combined_top_btm_100.groupby('amenity_group')['log_price_sgd'].describe()\n",
    "\n",
    "# Display results\n",
    "print(price_summary)\n"
   ]
  },
  {
   "cell_type": "markdown",
   "metadata": {},
   "source": [
    "#### T-Test on Price by Amenity Group (Three Groups)"
   ]
  },
  {
   "cell_type": "code",
   "execution_count": 22,
   "metadata": {},
   "outputs": [
    {
     "name": "stdout",
     "output_type": "stream",
     "text": [
      "T-Test between Basic Only and Basic + Premium: T-statistic = -3.071904835098321, P-value = 0.002467069345170694\n",
      "T-Test between Basic Only and No Basic: T-statistic = 0.06780361399755369, P-value = 0.9459694008332884\n",
      "T-Test between Basic + Premium and No Basic: T-statistic = 4.17461753588725, P-value = 3.4981981234322665e-05\n",
      "\n",
      "Hypotheses:\n",
      "H0: No significant difference in prices between the two groups being compared.\n",
      "H1: There is a significant difference in prices between the two groups.\n",
      "Reject H0 for Basic Only vs Basic + Premium (p-value=0.002467069345170694). There is a significant difference.\n",
      "Fail to reject H0 for Basic Only vs No Basic (p-value=0.9459694008332884). No significant difference.\n",
      "Reject H0 for Basic + Premium vs No Basic (p-value=3.4981981234322665e-05). There is a significant difference.\n"
     ]
    }
   ],
   "source": [
    "# Extract log prices for each group\n",
    "prices_basic_only = df_combined_top_btm_100[df_combined_top_btm_100['amenity_group'] == 'Basic Only']['log_price_sgd']\n",
    "prices_basic_premium = df_combined_top_btm_100[df_combined_top_btm_100['amenity_group'] == 'Basic + Premium']['log_price_sgd']\n",
    "prices_no_basic = df_combined_top_btm_100[df_combined_top_btm_100['amenity_group'] == 'No Basic Amenities']['log_price_sgd']\n",
    "\n",
    "# T-test between Basic Only and Basic + Premium\n",
    "t_stat1, p_value1 = ttest_ind(prices_basic_only, prices_basic_premium)\n",
    "# T-test between Basic Only and No Basic\n",
    "t_stat2, p_value2 = ttest_ind(prices_basic_only, prices_no_basic)\n",
    "# T-test between Basic + Premium and No Basic\n",
    "t_stat3, p_value3 = ttest_ind(prices_basic_premium, prices_no_basic)\n",
    "\n",
    "# Display results\n",
    "print(f'T-Test between Basic Only and Basic + Premium: T-statistic = {t_stat1}, P-value = {p_value1}')\n",
    "print(f'T-Test between Basic Only and No Basic: T-statistic = {t_stat2}, P-value = {p_value2}')\n",
    "print(f'T-Test between Basic + Premium and No Basic: T-statistic = {t_stat3}, P-value = {p_value3}')\n",
    "\n",
    "# Hypotheses and conclusions\n",
    "print(\"\\nHypotheses:\")\n",
    "print(\"H0: No significant difference in prices between the two groups being compared.\")\n",
    "print(\"H1: There is a significant difference in prices between the two groups.\")\n",
    "\n",
    "if p_value1 < 0.05:\n",
    "    print(f\"Reject H0 for Basic Only vs Basic + Premium (p-value={p_value1}). There is a significant difference.\")\n",
    "else:\n",
    "    print(f\"Fail to reject H0 for Basic Only vs Basic + Premium (p-value={p_value1}). No significant difference.\")\n",
    "\n",
    "if p_value2 < 0.05:\n",
    "    print(f\"Reject H0 for Basic Only vs No Basic (p-value={p_value2}). There is a significant difference.\")\n",
    "else:\n",
    "    print(f\"Fail to reject H0 for Basic Only vs No Basic (p-value={p_value2}). No significant difference.\")\n",
    "\n",
    "if p_value3 < 0.05:\n",
    "    print(f\"Reject H0 for Basic + Premium vs No Basic (p-value={p_value3}). There is a significant difference.\")\n",
    "else:\n",
    "    print(f\"Fail to reject H0 for Basic + Premium vs No Basic (p-value={p_value3}). No significant difference.\")\n"
   ]
  },
  {
   "cell_type": "markdown",
   "metadata": {},
   "source": [
    "#### Boxplot of Price Distribution by Amenity Group"
   ]
  },
  {
   "cell_type": "code",
   "execution_count": 23,
   "metadata": {},
   "outputs": [
    {
     "data": {
      "application/vnd.plotly.v1+json": {
       "config": {
        "plotlyServerURL": "https://plot.ly"
       },
       "data": [
        {
         "alignmentgroup": "True",
         "hovertemplate": "amenity_group=%{x}<br>log_price_sgd=%{y}<extra></extra>",
         "legendgroup": "",
         "marker": {
          "color": "#636efa"
         },
         "name": "",
         "notched": false,
         "offsetgroup": "",
         "orientation": "v",
         "showlegend": false,
         "type": "box",
         "x": [
          "Basic + Premium",
          "Basic + Premium",
          "Basic + Premium",
          "Basic + Premium",
          "Basic + Premium",
          "Basic + Premium",
          "Basic + Premium",
          "Basic + Premium",
          "Basic + Premium",
          "Basic Only",
          "Basic + Premium",
          "Basic + Premium",
          "Basic + Premium",
          "Basic + Premium",
          "Basic Only",
          "Basic + Premium",
          "Basic + Premium",
          "Basic + Premium",
          "Basic + Premium",
          "Basic + Premium",
          "Basic + Premium",
          "Basic + Premium",
          "Basic + Premium",
          "Basic + Premium",
          "Basic + Premium",
          "Basic + Premium",
          "Basic + Premium",
          "Basic + Premium",
          "Basic + Premium",
          "Basic + Premium",
          "Basic + Premium",
          "Basic + Premium",
          "Basic + Premium",
          "Basic + Premium",
          "Basic + Premium",
          "Basic + Premium",
          "Basic + Premium",
          "Basic + Premium",
          "Basic + Premium",
          "Basic + Premium",
          "Basic + Premium",
          "Basic + Premium",
          "Basic + Premium",
          "Basic Only",
          "Basic + Premium",
          "Basic + Premium",
          "Basic + Premium",
          "Basic + Premium",
          "Basic + Premium",
          "Basic + Premium",
          "Basic + Premium",
          "Basic + Premium",
          "Basic + Premium",
          "Basic + Premium",
          "Basic + Premium",
          "Basic + Premium",
          "Basic + Premium",
          "Basic + Premium",
          "Basic + Premium",
          "Basic + Premium",
          "Basic + Premium",
          "Basic + Premium",
          "Basic + Premium",
          "Basic + Premium",
          "Basic + Premium",
          "Basic + Premium",
          "Basic + Premium",
          "Basic + Premium",
          "Basic + Premium",
          "Basic + Premium",
          "Basic Only",
          "Basic + Premium",
          "Basic + Premium",
          "Basic + Premium",
          "Basic + Premium",
          "Basic Only",
          "Basic + Premium",
          "Basic + Premium",
          "Basic + Premium",
          "Basic + Premium",
          "Basic Only",
          "Basic + Premium",
          "Basic Only",
          "Basic + Premium",
          "Basic + Premium",
          "Basic + Premium",
          "Basic + Premium",
          "Basic + Premium",
          "Basic + Premium",
          "Basic + Premium",
          "Basic + Premium",
          "Basic Only",
          "Basic Only",
          "Basic Only",
          "Basic Only",
          "Basic Only",
          "Basic + Premium",
          "Basic + Premium",
          "Basic + Premium",
          "Basic + Premium",
          "Basic + Premium",
          "Basic + Premium",
          "Basic + Premium",
          "Basic + Premium",
          "Basic + Premium",
          "Basic + Premium",
          "Basic + Premium",
          "Basic Only",
          "Basic + Premium",
          "Basic + Premium",
          "Basic + Premium",
          "Basic Only",
          "Basic Only",
          "Basic Only",
          "Basic Only",
          "Basic Only",
          "Basic Only",
          "Basic Only",
          "Basic Only",
          "Basic Only",
          "Basic Only",
          "Basic Only",
          "Basic Only",
          "Basic Only",
          "Basic Only",
          "Basic Only",
          "Basic Only",
          "Basic Only",
          "Basic Only",
          "Basic Only",
          "Basic Only",
          "Basic Only",
          "Basic Only",
          "Basic Only",
          "Basic Only",
          "Basic Only",
          "Basic Only",
          "Basic Only",
          "Basic + Premium",
          "Basic Only",
          "Basic Only",
          "Basic Only",
          "Basic Only",
          "Basic Only",
          "Basic Only",
          "Basic Only",
          "Basic Only",
          "Basic Only",
          "Basic Only",
          "Basic Only",
          "Basic Only",
          "Basic Only",
          "Basic + Premium",
          "Basic Only",
          "Basic Only",
          "Basic Only",
          "Basic Only",
          "Basic Only",
          "Basic Only",
          "Basic Only",
          "Basic Only",
          "Basic Only",
          "Basic Only",
          "Basic Only",
          "Basic Only",
          "Basic + Premium",
          "Basic Only",
          "Basic Only",
          "Basic Only",
          "Basic Only",
          "Basic + Premium",
          "Basic Only",
          "Basic Only",
          "Basic Only",
          "Basic Only",
          "Basic Only",
          "Basic Only"
         ],
         "x0": " ",
         "xaxis": "x",
         "y": [
          4.481871969643597,
          4.523960130562548,
          4.597057365877541,
          4.52642996304626,
          5.713812010293379,
          4.619033642647245,
          4.160132302760104,
          4.499765224898137,
          3.906326812883265,
          3.6904781754776335,
          5.669191029886582,
          4.971090261690504,
          4.716103146694393,
          5.063657759272579,
          3.4468078929142076,
          4.060443010546419,
          4.257256747717932,
          4.424367475163407,
          4.998130770735515,
          4.481871969643597,
          4.808927023502111,
          4.244257704928986,
          5.020955193614208,
          4.771667192435075,
          4.916939809968932,
          4.575370554749572,
          5.851155955347269,
          4.294233133723212,
          4.543550068830553,
          6.696777424566799,
          4.47410432287479,
          4.031191747216832,
          4.838850035057188,
          5.606140244401453,
          4.902366850808458,
          5.4998531422657955,
          6.359089322232966,
          7.167809184316444,
          5.860558277260183,
          5.732693818150621,
          6.119417911418443,
          6.171491807348564,
          6.561483180186777,
          5.377405772867,
          5.362324496522329,
          4.696289779355575,
          5.878855602725328,
          6.233783077808233,
          6.651235899844207,
          5.793745048133931,
          5.414142932053627,
          6.977113417084449,
          7.012745726173074,
          5.151671786206552,
          6.992114809599876,
          5.918840089386981,
          6.651235899844207,
          4.725439018379036,
          6.880384082186005,
          7.211792867793484,
          6.154433375386121,
          5.377405772867,
          6.802505868263039,
          5.497168225293202,
          4.8721392168423305,
          6.261987744468967,
          6.809679277817793,
          7.3847841731646255,
          6.342121418721152,
          6.880384082186005,
          5.860558277260183,
          6.485367791678024,
          5.249862146278633,
          5.678806488586024,
          6.252674299228648,
          5.408580644003801,
          5.960227717766124,
          5.751151947581888,
          5.416196397596715,
          6.266720737055553,
          4.328098292648326,
          5.480048749223501,
          5.250571456954957,
          6.554621486331195,
          5.214483481434491,
          6.09828100237118,
          5.197254270408074,
          5.194182765816016,
          5.32747220371153,
          6.071917632103687,
          5.490486938730087,
          5.3855807117909995,
          5.644032470250427,
          4.968284353555726,
          4.815852416551005,
          5.051511047171494,
          4.715143247481732,
          5.641538208590521,
          3.2582503723422223,
          4.311711460758856,
          3.41483726736619,
          4.403200869905288,
          4.437035517704681,
          5.26413991474645,
          4.437934266612178,
          4.311711460758856,
          4.532169293103601,
          4.229982068764199,
          3.9394046821693633,
          3.2375798096619723,
          4.21662119025624,
          4.603368564041463,
          5.936110386975905,
          6.178234528307833,
          5.456516981221582,
          4.847017722096073,
          6.05312392749471,
          5.645022779449278,
          5.567657244751953,
          5.093750200806762,
          4.884467201905432,
          4.966753066279407,
          5.860558277260183,
          4.9890711161804155,
          5.053183797342212,
          5.678806488586024,
          5.827709559887866,
          5.000046092541988,
          5.042779747422823,
          5.555205123826408,
          5.03226631422255,
          5.093750200806762,
          5.678806488586024,
          5.103639787544498,
          5.113432527350917,
          5.773805926024342,
          5.083761832420361,
          5.428468051013081,
          3.0500689322069654,
          4.715143247481732,
          4.012859704038123,
          4.45709700072086,
          4.617067135800065,
          4.012859704038123,
          4.24510665010829,
          4.268297869345539,
          5.652898920874906,
          4.3363072508287575,
          4.028176269283217,
          5.619731076240859,
          4.008394440084098,
          4.595709575202474,
          4.9849755473156785,
          4.48863636973214,
          4.126734305023752,
          4.554264185013817,
          4.24510665010829,
          4.24510665010829,
          5.657210648155339,
          6.023060108697733,
          3.3105430133940246,
          4.8747453126628315,
          4.074563534692644,
          5.071416766356115,
          3.224396557540899,
          4.212542326681419,
          4.536891345234797,
          3.60282035084046,
          4.737439782883101,
          3.9125188824608057,
          3.6849517507759564,
          4.515079162661033,
          4.929280615053424,
          4.598193908251446,
          5.600597368855375,
          4.3363072508287575,
          5.15459017294502
         ],
         "y0": " ",
         "yaxis": "y"
        }
       ],
       "layout": {
        "boxmode": "group",
        "legend": {
         "tracegroupgap": 0
        },
        "template": {
         "data": {
          "bar": [
           {
            "error_x": {
             "color": "#2a3f5f"
            },
            "error_y": {
             "color": "#2a3f5f"
            },
            "marker": {
             "line": {
              "color": "#E5ECF6",
              "width": 0.5
             },
             "pattern": {
              "fillmode": "overlay",
              "size": 10,
              "solidity": 0.2
             }
            },
            "type": "bar"
           }
          ],
          "barpolar": [
           {
            "marker": {
             "line": {
              "color": "#E5ECF6",
              "width": 0.5
             },
             "pattern": {
              "fillmode": "overlay",
              "size": 10,
              "solidity": 0.2
             }
            },
            "type": "barpolar"
           }
          ],
          "carpet": [
           {
            "aaxis": {
             "endlinecolor": "#2a3f5f",
             "gridcolor": "white",
             "linecolor": "white",
             "minorgridcolor": "white",
             "startlinecolor": "#2a3f5f"
            },
            "baxis": {
             "endlinecolor": "#2a3f5f",
             "gridcolor": "white",
             "linecolor": "white",
             "minorgridcolor": "white",
             "startlinecolor": "#2a3f5f"
            },
            "type": "carpet"
           }
          ],
          "choropleth": [
           {
            "colorbar": {
             "outlinewidth": 0,
             "ticks": ""
            },
            "type": "choropleth"
           }
          ],
          "contour": [
           {
            "colorbar": {
             "outlinewidth": 0,
             "ticks": ""
            },
            "colorscale": [
             [
              0,
              "#0d0887"
             ],
             [
              0.1111111111111111,
              "#46039f"
             ],
             [
              0.2222222222222222,
              "#7201a8"
             ],
             [
              0.3333333333333333,
              "#9c179e"
             ],
             [
              0.4444444444444444,
              "#bd3786"
             ],
             [
              0.5555555555555556,
              "#d8576b"
             ],
             [
              0.6666666666666666,
              "#ed7953"
             ],
             [
              0.7777777777777778,
              "#fb9f3a"
             ],
             [
              0.8888888888888888,
              "#fdca26"
             ],
             [
              1,
              "#f0f921"
             ]
            ],
            "type": "contour"
           }
          ],
          "contourcarpet": [
           {
            "colorbar": {
             "outlinewidth": 0,
             "ticks": ""
            },
            "type": "contourcarpet"
           }
          ],
          "heatmap": [
           {
            "colorbar": {
             "outlinewidth": 0,
             "ticks": ""
            },
            "colorscale": [
             [
              0,
              "#0d0887"
             ],
             [
              0.1111111111111111,
              "#46039f"
             ],
             [
              0.2222222222222222,
              "#7201a8"
             ],
             [
              0.3333333333333333,
              "#9c179e"
             ],
             [
              0.4444444444444444,
              "#bd3786"
             ],
             [
              0.5555555555555556,
              "#d8576b"
             ],
             [
              0.6666666666666666,
              "#ed7953"
             ],
             [
              0.7777777777777778,
              "#fb9f3a"
             ],
             [
              0.8888888888888888,
              "#fdca26"
             ],
             [
              1,
              "#f0f921"
             ]
            ],
            "type": "heatmap"
           }
          ],
          "heatmapgl": [
           {
            "colorbar": {
             "outlinewidth": 0,
             "ticks": ""
            },
            "colorscale": [
             [
              0,
              "#0d0887"
             ],
             [
              0.1111111111111111,
              "#46039f"
             ],
             [
              0.2222222222222222,
              "#7201a8"
             ],
             [
              0.3333333333333333,
              "#9c179e"
             ],
             [
              0.4444444444444444,
              "#bd3786"
             ],
             [
              0.5555555555555556,
              "#d8576b"
             ],
             [
              0.6666666666666666,
              "#ed7953"
             ],
             [
              0.7777777777777778,
              "#fb9f3a"
             ],
             [
              0.8888888888888888,
              "#fdca26"
             ],
             [
              1,
              "#f0f921"
             ]
            ],
            "type": "heatmapgl"
           }
          ],
          "histogram": [
           {
            "marker": {
             "pattern": {
              "fillmode": "overlay",
              "size": 10,
              "solidity": 0.2
             }
            },
            "type": "histogram"
           }
          ],
          "histogram2d": [
           {
            "colorbar": {
             "outlinewidth": 0,
             "ticks": ""
            },
            "colorscale": [
             [
              0,
              "#0d0887"
             ],
             [
              0.1111111111111111,
              "#46039f"
             ],
             [
              0.2222222222222222,
              "#7201a8"
             ],
             [
              0.3333333333333333,
              "#9c179e"
             ],
             [
              0.4444444444444444,
              "#bd3786"
             ],
             [
              0.5555555555555556,
              "#d8576b"
             ],
             [
              0.6666666666666666,
              "#ed7953"
             ],
             [
              0.7777777777777778,
              "#fb9f3a"
             ],
             [
              0.8888888888888888,
              "#fdca26"
             ],
             [
              1,
              "#f0f921"
             ]
            ],
            "type": "histogram2d"
           }
          ],
          "histogram2dcontour": [
           {
            "colorbar": {
             "outlinewidth": 0,
             "ticks": ""
            },
            "colorscale": [
             [
              0,
              "#0d0887"
             ],
             [
              0.1111111111111111,
              "#46039f"
             ],
             [
              0.2222222222222222,
              "#7201a8"
             ],
             [
              0.3333333333333333,
              "#9c179e"
             ],
             [
              0.4444444444444444,
              "#bd3786"
             ],
             [
              0.5555555555555556,
              "#d8576b"
             ],
             [
              0.6666666666666666,
              "#ed7953"
             ],
             [
              0.7777777777777778,
              "#fb9f3a"
             ],
             [
              0.8888888888888888,
              "#fdca26"
             ],
             [
              1,
              "#f0f921"
             ]
            ],
            "type": "histogram2dcontour"
           }
          ],
          "mesh3d": [
           {
            "colorbar": {
             "outlinewidth": 0,
             "ticks": ""
            },
            "type": "mesh3d"
           }
          ],
          "parcoords": [
           {
            "line": {
             "colorbar": {
              "outlinewidth": 0,
              "ticks": ""
             }
            },
            "type": "parcoords"
           }
          ],
          "pie": [
           {
            "automargin": true,
            "type": "pie"
           }
          ],
          "scatter": [
           {
            "fillpattern": {
             "fillmode": "overlay",
             "size": 10,
             "solidity": 0.2
            },
            "type": "scatter"
           }
          ],
          "scatter3d": [
           {
            "line": {
             "colorbar": {
              "outlinewidth": 0,
              "ticks": ""
             }
            },
            "marker": {
             "colorbar": {
              "outlinewidth": 0,
              "ticks": ""
             }
            },
            "type": "scatter3d"
           }
          ],
          "scattercarpet": [
           {
            "marker": {
             "colorbar": {
              "outlinewidth": 0,
              "ticks": ""
             }
            },
            "type": "scattercarpet"
           }
          ],
          "scattergeo": [
           {
            "marker": {
             "colorbar": {
              "outlinewidth": 0,
              "ticks": ""
             }
            },
            "type": "scattergeo"
           }
          ],
          "scattergl": [
           {
            "marker": {
             "colorbar": {
              "outlinewidth": 0,
              "ticks": ""
             }
            },
            "type": "scattergl"
           }
          ],
          "scattermapbox": [
           {
            "marker": {
             "colorbar": {
              "outlinewidth": 0,
              "ticks": ""
             }
            },
            "type": "scattermapbox"
           }
          ],
          "scatterpolar": [
           {
            "marker": {
             "colorbar": {
              "outlinewidth": 0,
              "ticks": ""
             }
            },
            "type": "scatterpolar"
           }
          ],
          "scatterpolargl": [
           {
            "marker": {
             "colorbar": {
              "outlinewidth": 0,
              "ticks": ""
             }
            },
            "type": "scatterpolargl"
           }
          ],
          "scatterternary": [
           {
            "marker": {
             "colorbar": {
              "outlinewidth": 0,
              "ticks": ""
             }
            },
            "type": "scatterternary"
           }
          ],
          "surface": [
           {
            "colorbar": {
             "outlinewidth": 0,
             "ticks": ""
            },
            "colorscale": [
             [
              0,
              "#0d0887"
             ],
             [
              0.1111111111111111,
              "#46039f"
             ],
             [
              0.2222222222222222,
              "#7201a8"
             ],
             [
              0.3333333333333333,
              "#9c179e"
             ],
             [
              0.4444444444444444,
              "#bd3786"
             ],
             [
              0.5555555555555556,
              "#d8576b"
             ],
             [
              0.6666666666666666,
              "#ed7953"
             ],
             [
              0.7777777777777778,
              "#fb9f3a"
             ],
             [
              0.8888888888888888,
              "#fdca26"
             ],
             [
              1,
              "#f0f921"
             ]
            ],
            "type": "surface"
           }
          ],
          "table": [
           {
            "cells": {
             "fill": {
              "color": "#EBF0F8"
             },
             "line": {
              "color": "white"
             }
            },
            "header": {
             "fill": {
              "color": "#C8D4E3"
             },
             "line": {
              "color": "white"
             }
            },
            "type": "table"
           }
          ]
         },
         "layout": {
          "annotationdefaults": {
           "arrowcolor": "#2a3f5f",
           "arrowhead": 0,
           "arrowwidth": 1
          },
          "autotypenumbers": "strict",
          "coloraxis": {
           "colorbar": {
            "outlinewidth": 0,
            "ticks": ""
           }
          },
          "colorscale": {
           "diverging": [
            [
             0,
             "#8e0152"
            ],
            [
             0.1,
             "#c51b7d"
            ],
            [
             0.2,
             "#de77ae"
            ],
            [
             0.3,
             "#f1b6da"
            ],
            [
             0.4,
             "#fde0ef"
            ],
            [
             0.5,
             "#f7f7f7"
            ],
            [
             0.6,
             "#e6f5d0"
            ],
            [
             0.7,
             "#b8e186"
            ],
            [
             0.8,
             "#7fbc41"
            ],
            [
             0.9,
             "#4d9221"
            ],
            [
             1,
             "#276419"
            ]
           ],
           "sequential": [
            [
             0,
             "#0d0887"
            ],
            [
             0.1111111111111111,
             "#46039f"
            ],
            [
             0.2222222222222222,
             "#7201a8"
            ],
            [
             0.3333333333333333,
             "#9c179e"
            ],
            [
             0.4444444444444444,
             "#bd3786"
            ],
            [
             0.5555555555555556,
             "#d8576b"
            ],
            [
             0.6666666666666666,
             "#ed7953"
            ],
            [
             0.7777777777777778,
             "#fb9f3a"
            ],
            [
             0.8888888888888888,
             "#fdca26"
            ],
            [
             1,
             "#f0f921"
            ]
           ],
           "sequentialminus": [
            [
             0,
             "#0d0887"
            ],
            [
             0.1111111111111111,
             "#46039f"
            ],
            [
             0.2222222222222222,
             "#7201a8"
            ],
            [
             0.3333333333333333,
             "#9c179e"
            ],
            [
             0.4444444444444444,
             "#bd3786"
            ],
            [
             0.5555555555555556,
             "#d8576b"
            ],
            [
             0.6666666666666666,
             "#ed7953"
            ],
            [
             0.7777777777777778,
             "#fb9f3a"
            ],
            [
             0.8888888888888888,
             "#fdca26"
            ],
            [
             1,
             "#f0f921"
            ]
           ]
          },
          "colorway": [
           "#636efa",
           "#EF553B",
           "#00cc96",
           "#ab63fa",
           "#FFA15A",
           "#19d3f3",
           "#FF6692",
           "#B6E880",
           "#FF97FF",
           "#FECB52"
          ],
          "font": {
           "color": "#2a3f5f"
          },
          "geo": {
           "bgcolor": "white",
           "lakecolor": "white",
           "landcolor": "#E5ECF6",
           "showlakes": true,
           "showland": true,
           "subunitcolor": "white"
          },
          "hoverlabel": {
           "align": "left"
          },
          "hovermode": "closest",
          "mapbox": {
           "style": "light"
          },
          "paper_bgcolor": "white",
          "plot_bgcolor": "#E5ECF6",
          "polar": {
           "angularaxis": {
            "gridcolor": "white",
            "linecolor": "white",
            "ticks": ""
           },
           "bgcolor": "#E5ECF6",
           "radialaxis": {
            "gridcolor": "white",
            "linecolor": "white",
            "ticks": ""
           }
          },
          "scene": {
           "xaxis": {
            "backgroundcolor": "#E5ECF6",
            "gridcolor": "white",
            "gridwidth": 2,
            "linecolor": "white",
            "showbackground": true,
            "ticks": "",
            "zerolinecolor": "white"
           },
           "yaxis": {
            "backgroundcolor": "#E5ECF6",
            "gridcolor": "white",
            "gridwidth": 2,
            "linecolor": "white",
            "showbackground": true,
            "ticks": "",
            "zerolinecolor": "white"
           },
           "zaxis": {
            "backgroundcolor": "#E5ECF6",
            "gridcolor": "white",
            "gridwidth": 2,
            "linecolor": "white",
            "showbackground": true,
            "ticks": "",
            "zerolinecolor": "white"
           }
          },
          "shapedefaults": {
           "line": {
            "color": "#2a3f5f"
           }
          },
          "ternary": {
           "aaxis": {
            "gridcolor": "white",
            "linecolor": "white",
            "ticks": ""
           },
           "baxis": {
            "gridcolor": "white",
            "linecolor": "white",
            "ticks": ""
           },
           "bgcolor": "#E5ECF6",
           "caxis": {
            "gridcolor": "white",
            "linecolor": "white",
            "ticks": ""
           }
          },
          "title": {
           "x": 0.05
          },
          "xaxis": {
           "automargin": true,
           "gridcolor": "white",
           "linecolor": "white",
           "ticks": "",
           "title": {
            "standoff": 15
           },
           "zerolinecolor": "white",
           "zerolinewidth": 2
          },
          "yaxis": {
           "automargin": true,
           "gridcolor": "white",
           "linecolor": "white",
           "ticks": "",
           "title": {
            "standoff": 15
           },
           "zerolinecolor": "white",
           "zerolinewidth": 2
          }
         }
        },
        "title": {
         "text": "Price Distribution by Amenity Group"
        },
        "xaxis": {
         "anchor": "y",
         "categoryarray": [
          "Basic + Premium",
          "Basic Only"
         ],
         "categoryorder": "array",
         "domain": [
          0,
          1
         ],
         "title": {
          "text": "amenity_group"
         }
        },
        "yaxis": {
         "anchor": "x",
         "domain": [
          0,
          1
         ],
         "title": {
          "text": "log_price_sgd"
         }
        }
       }
      }
     },
     "metadata": {},
     "output_type": "display_data"
    }
   ],
   "source": [
    "# Filter the dataframe to include only 'Basic Only' and 'Basic + Premium' categories\n",
    "filtered_df = df_combined_top_btm_100[df_combined_top_btm_100['amenity_group'].isin(['Basic Only', 'Basic + Premium'])]\n",
    "\n",
    "# Create boxplot of log_price_sgd by amenity_group\n",
    "fig = px.box(filtered_df, x='amenity_group', y='log_price_sgd', title=\"Price Distribution by Amenity Group\")\n",
    "fig.update_layout(xaxis={'categoryorder':'array', 'categoryarray':['Basic + Premium', 'Basic Only']})\n",
    "fig.show()"
   ]
  },
  {
   "cell_type": "markdown",
   "metadata": {},
   "source": [
    "#### One-way ANOVA on Price by Amenity Group"
   ]
  },
  {
   "cell_type": "code",
   "execution_count": 24,
   "metadata": {},
   "outputs": [
    {
     "name": "stdout",
     "output_type": "stream",
     "text": [
      "                     df      sum_sq   mean_sq         F    PR(>F)\n",
      "C(amenity_group)    2.0   14.855599  7.427800  9.415318  0.000094\n",
      "Residual          595.0  469.399013  0.788906       NaN       NaN\n",
      "\n",
      "Hypotheses for ANOVA:\n",
      "H0: No significant difference in prices across amenity groups.\n",
      "H1: There is a significant difference in prices across amenity groups.\n",
      "Reject H0. There is a significant difference in prices across amenity groups (p-value=9.426507553112257e-05).\n"
     ]
    },
    {
     "name": "stderr",
     "output_type": "stream",
     "text": [
      "C:\\Users\\leeze\\AppData\\Local\\Temp\\ipykernel_29536\\1801551633.py:13: FutureWarning:\n",
      "\n",
      "Series.__getitem__ treating keys as positions is deprecated. In a future version, integer keys will always be treated as labels (consistent with DataFrame behavior). To access a value by position, use `ser.iloc[pos]`\n",
      "\n",
      "C:\\Users\\leeze\\AppData\\Local\\Temp\\ipykernel_29536\\1801551633.py:14: FutureWarning:\n",
      "\n",
      "Series.__getitem__ treating keys as positions is deprecated. In a future version, integer keys will always be treated as labels (consistent with DataFrame behavior). To access a value by position, use `ser.iloc[pos]`\n",
      "\n"
     ]
    }
   ],
   "source": [
    "# Run ANOVA on price by amenity group\n",
    "model = ols('log_price_sgd ~ C(amenity_group)', data=df_combined_top_btm_100).fit()\n",
    "anova_table = sm.stats.anova_lm(model)\n",
    "\n",
    "# Display ANOVA table\n",
    "print(anova_table)\n",
    "\n",
    "# Hypotheses and conclusion for ANOVA\n",
    "print(\"\\nHypotheses for ANOVA:\")\n",
    "print(\"H0: No significant difference in prices across amenity groups.\")\n",
    "print(\"H1: There is a significant difference in prices across amenity groups.\")\n",
    "\n",
    "if anova_table['PR(>F)'][0] < 0.05:\n",
    "    print(f\"Reject H0. There is a significant difference in prices across amenity groups (p-value={anova_table['PR(>F)'][0]}).\")\n",
    "else:\n",
    "    print(f\"Fail to reject H0. No significant difference in prices across amenity groups (p-value={anova_table['PR(>F)'][0]}).\")\n"
   ]
  },
  {
   "cell_type": "code",
   "execution_count": 25,
   "metadata": {},
   "outputs": [
    {
     "data": {
      "image/png": "[encoded data removed]",
      "text/plain": [
       "<Figure size 640x480 with 1 Axes>"
      ]
     },
     "metadata": {},
     "output_type": "display_data"
    },
    {
     "data": {
      "image/png": "[encoded data removed]",
      "text/plain": [
       "<Figure size 640x480 with 1 Axes>"
      ]
     },
     "metadata": {},
     "output_type": "display_data"
    }
   ],
   "source": [
    "from scipy.stats import shapiro\n",
    "\n",
    "# Extract residuals from the ANOVA model\n",
    "residuals = model.resid\n",
    "\n",
    "# Plot Q-Q plot for residuals\n",
    "sm.qqplot(residuals, line='s')\n",
    "plt.title(\"Q-Q Plot of Residuals\")\n",
    "plt.show()\n",
    "\n",
    "# Plot a histogram of residuals\n",
    "sns.histplot(residuals, kde=True)\n",
    "plt.title('Residuals Histogram')\n",
    "plt.show()\n"
   ]
  },
  {
   "cell_type": "code",
   "execution_count": null,
   "metadata": {},
   "outputs": [
    {
     "name": "stdout",
     "output_type": "stream",
     "text": [
      "           Multiple Comparison of Means - Tukey HSD, FWER=0.05           \n",
      "=========================================================================\n",
      "     group1           group2       meandiff p-adj   lower   upper  reject\n",
      "-------------------------------------------------------------------------\n",
      "Basic + Premium         Basic Only  -0.3471 0.0012 -0.5762 -0.1179   True\n",
      "Basic + Premium No Basic Amenities  -0.7074    0.0 -0.9986 -0.4162   True\n",
      "     Basic Only No Basic Amenities  -0.3604 0.0008 -0.5922 -0.1285   True\n",
      "-------------------------------------------------------------------------\n",
      "\n",
      "Tukey's HSD Hypotheses:\n",
      "H₀: There is no significant difference in mean prices between pairs of amenity groups.\n",
      "H₁: There is a significant difference in mean prices between at least one pair of amenity groups.\n",
      "\n",
      "Comparing Basic + Premium vs Basic Only:\n",
      "Mean Difference: -0.3471, P-value: 0.0012\n",
      "Conclusion: Reject H₀. There is a significant difference in prices.\n",
      "\n",
      "Comparing Basic + Premium vs No Basic Amenities:\n",
      "Mean Difference: -0.7074, P-value: 0.0\n",
      "Conclusion: Reject H₀. There is a significant difference in prices.\n",
      "\n",
      "Comparing Basic Only vs No Basic Amenities:\n",
      "Mean Difference: -0.3604, P-value: 0.0008\n",
      "Conclusion: Reject H₀. There is a significant difference in prices.\n"
     ]
    }
   ],
   "source": [
    "# Perform Tukey's HSD test\n",
    "tukey = pairwise_tukeyhsd(endog=df_combined_top_btm_100['log_price_sgd'], \n",
    "                          groups=df_combined_top_btm_100['amenity_group'], \n",
    "                          alpha=0.05)\n",
    "\n",
    "# Display Tukey's HSD results\n",
    "print(tukey.summary())\n",
    "\n",
    "# Hypotheses and conclusion\n",
    "print(\"\\nTukey's HSD Hypotheses:\")\n",
    "print(\"H₀: There is no significant difference in mean prices between pairs of amenity groups.\")\n",
    "print(\"H₁: There is a significant difference in mean prices between at least one pair of amenity groups.\")\n",
    "\n",
    "# Interpretation of results\n",
    "for result in tukey._results_table.data[1:]:\n",
    "    group1, group2, meandiff, p_adj, lower, upper, reject = result\n",
    "    print(f\"\\nComparing {group1} vs {group2}:\")\n",
    "    print(f\"Mean Difference: {meandiff}, P-value: {p_adj}\")\n",
    "    if reject:\n",
    "        print(\"Conclusion: Reject H₀. There is a significant difference in prices.\")\n",
    "    else:\n",
    "        print(\"Conclusion: Fail to reject H₀. No significant difference in prices.\")\n"
   ]
  },
  {
   "cell_type": "markdown",
   "metadata": {},
   "source": [
    "### Two-Way ANOVA (Amenity Groups and Cities)"
   ]
  },
  {
   "cell_type": "code",
   "execution_count": 28,
   "metadata": {},
   "outputs": [
    {
     "name": "stdout",
     "output_type": "stream",
     "text": [
      "Two-Way ANOVA Results:\n",
      "                             df      sum_sq    mean_sq           F  \\\n",
      "C(amenity_group)            2.0   14.855599   7.427800   15.143181   \n",
      "C(City)                     2.0  179.124930  89.562465  182.592519   \n",
      "C(amenity_group):C(City)    4.0    1.366891   0.341723    0.696676   \n",
      "Residual                  589.0  288.907192   0.490505         NaN   \n",
      "\n",
      "                                PR(>F)  \n",
      "C(amenity_group)          3.862804e-07  \n",
      "C(City)                   1.982225e-62  \n",
      "C(amenity_group):C(City)  5.944513e-01  \n",
      "Residual                           NaN  \n"
     ]
    }
   ],
   "source": [
    "# Step 1: Ensure the 'amenity_group' and 'city' columns are categorized properly\n",
    "df_combined_top_btm_100['amenity_group'] = df_combined_top_btm_100['amenity_group'].astype('category')\n",
    "df_combined_top_btm_100['City'] = df_combined_top_btm_100['City'].astype('category')\n",
    "\n",
    "# Step 2: Define the Two-Way ANOVA formula\n",
    "# Replace 'price_sgd' with your price column, and 'amenity_group' and 'City' with the relevant columns\n",
    "formula = 'log_price_sgd ~ C(amenity_group) * C(City)'\n",
    "\n",
    "# Step 3: Fit the model\n",
    "# Ensure city names are consistent and free of leading/trailing spaces\n",
    "df_combined_top_btm_100['City'] = df_combined_top_btm_100['City'].str.strip().str.title()\n",
    "\n",
    "# Fit the model and perform Two-Way ANOVA\n",
    "model = ols(formula, data=df_combined_top_btm_100).fit()\n",
    "\n",
    "# Step 4: Perform Two-Way ANOVA\n",
    "anova_results = anova_lm(model)\n",
    "print(\"Two-Way ANOVA Results:\")\n",
    "print(anova_results)\n",
    "\n"
   ]
  },
  {
   "cell_type": "code",
   "execution_count": 27,
   "metadata": {},
   "outputs": [
    {
     "data": {
      "image/png": "[encoded data removed]",
      "text/plain": [
       "<Figure size 640x480 with 1 Axes>"
      ]
     },
     "metadata": {},
     "output_type": "display_data"
    },
    {
     "data": {
      "image/png": "[encoded data removed]",
      "text/plain": [
       "<Figure size 640x480 with 1 Axes>"
      ]
     },
     "metadata": {},
     "output_type": "display_data"
    }
   ],
   "source": [
    "# Plot Q-Q plot for residuals\n",
    "sm.qqplot(residuals, line='s')\n",
    "plt.title(\"Q-Q Plot of Residuals\")\n",
    "plt.show()\n",
    "\n",
    "# Plot a histogram of residuals\n",
    "sns.histplot(residuals, kde=True)\n",
    "plt.title('Residuals Histogram')\n",
    "plt.show()"
   ]
  },
  {
   "cell_type": "code",
   "execution_count": null,
   "metadata": {},
   "outputs": [
    {
     "name": "stdout",
     "output_type": "stream",
     "text": [
      "\n",
      "Shapiro-Wilk Test for Normality of Residuals:\n",
      "Test Statistic: 0.9966010383422542, P-value: 0.37534455767995656\n",
      "      Multiple Comparison of Means - Tukey HSD, FWER=0.05       \n",
      "================================================================\n",
      "     group1       group2   meandiff p-adj   lower  upper  reject\n",
      "----------------------------------------------------------------\n",
      "Basic + Premium Basic Only  -0.3471 0.0005 -0.5421 -0.152   True\n",
      "----------------------------------------------------------------\n",
      "\n",
      "Hypotheses for Two-Way ANOVA:\n",
      "H₀: There is no effect of 'amenity_group' or 'city' on the listing prices.\n",
      "H₁: There is a significant effect of 'amenity_group' or 'city' on the listing prices, or there is an interaction effect between them.\n",
      "Conclusion: Reject H₀ for 'amenity_group'. There is a significant effect of 'amenity_group' on prices.\n",
      "Conclusion: Reject H₀ for 'City'. There is a significant effect of 'City' on prices.\n",
      "Conclusion: Fail to reject H₀ for the interaction. No significant interaction between 'amenity_group' and 'City' affecting prices.\n"
     ]
    },
    {
     "name": "stderr",
     "output_type": "stream",
     "text": [
      "C:\\Users\\leeze\\AppData\\Local\\Temp\\ipykernel_19776\\2313198186.py:23: FutureWarning:\n",
      "\n",
      "Series.__getitem__ treating keys as positions is deprecated. In a future version, integer keys will always be treated as labels (consistent with DataFrame behavior). To access a value by position, use `ser.iloc[pos]`\n",
      "\n",
      "C:\\Users\\leeze\\AppData\\Local\\Temp\\ipykernel_19776\\2313198186.py:28: FutureWarning:\n",
      "\n",
      "Series.__getitem__ treating keys as positions is deprecated. In a future version, integer keys will always be treated as labels (consistent with DataFrame behavior). To access a value by position, use `ser.iloc[pos]`\n",
      "\n",
      "C:\\Users\\leeze\\AppData\\Local\\Temp\\ipykernel_19776\\2313198186.py:33: FutureWarning:\n",
      "\n",
      "Series.__getitem__ treating keys as positions is deprecated. In a future version, integer keys will always be treated as labels (consistent with DataFrame behavior). To access a value by position, use `ser.iloc[pos]`\n",
      "\n"
     ]
    }
   ],
   "source": [
    "# Shapiro-Wilk Test for Normality of Residuals\n",
    "shapiro_test = shapiro(model.resid)\n",
    "print(\"\\nShapiro-Wilk Test for Normality of Residuals:\")\n",
    "print(f\"Test Statistic: {shapiro_test.statistic}, P-value: {shapiro_test.pvalue}\")\n",
    "\n",
    "# Step 7: Optional - Tukey's HSD test for post-hoc analysis (if main effects are significant)\n",
    "from statsmodels.stats.multicomp import pairwise_tukeyhsd\n",
    "\n",
    "# Filter the dataframe to include only 'Basic Only' and 'Basic + Premium' categories\n",
    "filtered_df_tukey = df_combined_top_btm_100[df_combined_top_btm_100['amenity_group'].isin(['Basic Only', 'Basic + Premium'])]\n",
    "\n",
    "# Perform Tukey's HSD test\n",
    "tukey = pairwise_tukeyhsd(endog=filtered_df_tukey['log_price_sgd'], groups=filtered_df_tukey['amenity_group'], alpha=0.05)\n",
    "print(tukey.summary())\n",
    "\n",
    "# Step 8: Add conclusion based on the ANOVA results\n",
    "# Add the relevant H₀, H₁, and conclusions for main effects and interaction effects\n",
    "\n",
    "print(\"\\nHypotheses for Two-Way ANOVA:\")\n",
    "print(\"H₀: There is no effect of 'amenity_group' or 'city' on the listing prices.\")\n",
    "print(\"H₁: There is a significant effect of 'amenity_group' or 'city' on the listing prices, or there is an interaction effect between them.\")\n",
    "\n",
    "if anova_results['PR(>F)'][0] < 0.05:\n",
    "    print(\"Conclusion: Reject H₀ for 'amenity_group'. There is a significant effect of 'amenity_group' on prices.\")\n",
    "else:\n",
    "    print(\"Conclusion: Fail to reject H₀ for 'amenity_group'. No significant effect of 'amenity_group' on prices.\")\n",
    "\n",
    "if anova_results['PR(>F)'][1] < 0.05:\n",
    "    print(\"Conclusion: Reject H₀ for 'City'. There is a significant effect of 'City' on prices.\")\n",
    "else:\n",
    "    print(\"Conclusion: Fail to reject H₀ for 'City'. No significant effect of 'City' on prices.\")\n",
    "\n",
    "if anova_results['PR(>F)'][2] < 0.05:\n",
    "    print(\"Conclusion: Reject H₀ for the interaction. There is a significant interaction between 'amenity_group' and 'City' affecting prices.\")\n",
    "else:\n",
    "    print(\"Conclusion: Fail to reject H₀ for the interaction. No significant interaction between 'amenity_group' and 'City' affecting prices.\")"
   ]
  },
  {
   "cell_type": "markdown",
   "metadata": {},
   "source": [
    "### Two-Way ANOVA (Amenity Groups and Review Groups)"
   ]
  },
  {
   "cell_type": "code",
   "execution_count": 29,
   "metadata": {},
   "outputs": [
    {
     "name": "stdout",
     "output_type": "stream",
     "text": [
      "Two-Way ANOVA Results:\n",
      "                                     df      sum_sq    mean_sq          F  \\\n",
      "C(amenity_group)                    2.0   14.855599   7.427800  10.355184   \n",
      "C(review_group)                     1.0   32.804444  32.804444  45.733067   \n",
      "C(amenity_group):C(review_group)    2.0   11.951484   5.975742   8.330853   \n",
      "Residual                          592.0  424.643086   0.717303        NaN   \n",
      "\n",
      "                                        PR(>F)  \n",
      "C(amenity_group)                  3.799069e-05  \n",
      "C(review_group)                   3.257630e-11  \n",
      "C(amenity_group):C(review_group)  2.703556e-04  \n",
      "Residual                                   NaN  \n"
     ]
    },
    {
     "data": {
      "image/png": "[encoded data removed]",
      "text/plain": [
       "<Figure size 1000x600 with 1 Axes>"
      ]
     },
     "metadata": {},
     "output_type": "display_data"
    }
   ],
   "source": [
    "# Step 1: Ensure the 'amenity_group' and 'city' columns are categorized properly\n",
    "df_combined_top_btm_100['amenity_group'] = df_combined_top_btm_100['amenity_group'].astype('category')\n",
    "df_combined_top_btm_100['review_group'] = df_combined_top_btm_100['review_group'].astype('category')\n",
    "\n",
    "# Step 2: Define the Two-Way ANOVA formula\n",
    "# Replace 'price_sgd' with your price column, and 'amenity_group' and 'City' with the relevant columns\n",
    "formula = 'log_price_sgd ~ C(amenity_group) * C(review_group)'\n",
    "\n",
    "# Step 3: Fit the model\n",
    "# Ensure city names are consistent and free of leading/trailing spaces\n",
    "df_combined_top_btm_100['review_group'] = df_combined_top_btm_100['review_group'].str.strip()\n",
    "\n",
    "# Fit the model and perform Two-Way ANOVA\n",
    "model = ols(formula, data=df_combined_top_btm_100).fit()\n",
    "\n",
    "# Step 4: Perform Two-Way ANOVA\n",
    "anova_results = anova_lm(model)\n",
    "print(\"Two-Way ANOVA Results:\")\n",
    "print(anova_results)\n",
    "\n",
    "# Plot interaction effects\n",
    "plt.figure(figsize=(10, 6))\n",
    "sns.pointplot(x='amenity_group', y='log_price_sgd', hue='review_group', data=df_combined_top_btm_100, dodge=True, markers=['o', 's'], capsize=.1)\n",
    "plt.title('Interaction Plot: Amenity Group and Review Group on Price')\n",
    "plt.ylabel('Log Price (SGD)')\n",
    "plt.show()\n",
    "\n",
    "\n"
   ]
  },
  {
   "cell_type": "code",
   "execution_count": 30,
   "metadata": {},
   "outputs": [
    {
     "data": {
      "image/png": "[encoded data removed]",
      "text/plain": [
       "<Figure size 640x480 with 1 Axes>"
      ]
     },
     "metadata": {},
     "output_type": "display_data"
    },
    {
     "data": {
      "image/png": "[encoded data removed]",
      "text/plain": [
       "<Figure size 640x480 with 1 Axes>"
      ]
     },
     "metadata": {},
     "output_type": "display_data"
    }
   ],
   "source": [
    "# Plot Q-Q plot for residuals\n",
    "sm.qqplot(residuals, line='s')\n",
    "plt.title(\"Q-Q Plot of Residuals\")\n",
    "plt.show()\n",
    "\n",
    "# Plot a histogram of residuals\n",
    "sns.histplot(residuals, kde=True)\n",
    "plt.title('Residuals Histogram')\n",
    "plt.show()"
   ]
  },
  {
   "cell_type": "code",
   "execution_count": 31,
   "metadata": {},
   "outputs": [
    {
     "name": "stdout",
     "output_type": "stream",
     "text": [
      "                       Multiple Comparison of Means - Tukey HSD, FWER=0.05                        \n",
      "==================================================================================================\n",
      "            group1                        group2            meandiff p-adj   lower   upper  reject\n",
      "--------------------------------------------------------------------------------------------------\n",
      "   Basic + Premium_Bottom 100       Basic + Premium_Top 100   1.3219    0.0  0.6786  1.9653   True\n",
      "   Basic + Premium_Bottom 100         Basic Only_Bottom 100   0.6793 0.0404  0.0175  1.3411   True\n",
      "   Basic + Premium_Bottom 100            Basic Only_Top 100   0.7393 0.1896 -0.1737  1.6522  False\n",
      "   Basic + Premium_Bottom 100 No Basic Amenities_Bottom 100   0.4734 0.2299 -0.1362  1.0829  False\n",
      "   Basic + Premium_Bottom 100    No Basic Amenities_Top 100   0.9093 0.0004  0.2977   1.521   True\n",
      "      Basic + Premium_Top 100         Basic Only_Bottom 100  -0.6427 0.0001 -1.0452 -0.2401   True\n",
      "      Basic + Premium_Top 100            Basic Only_Top 100  -0.5827 0.2251 -1.3294   0.164  False\n",
      "      Basic + Premium_Top 100 No Basic Amenities_Bottom 100  -0.8486    0.0 -1.1578 -0.5393   True\n",
      "      Basic + Premium_Top 100    No Basic Amenities_Top 100  -0.4126 0.0025 -0.7259 -0.0993   True\n",
      "        Basic Only_Bottom 100            Basic Only_Top 100     0.06 0.9999 -0.7027  0.8227  False\n",
      "        Basic Only_Bottom 100 No Basic Amenities_Bottom 100  -0.2059 0.5315 -0.5519  0.1401  False\n",
      "        Basic Only_Bottom 100    No Basic Amenities_Top 100   0.2301 0.4147 -0.1196  0.5797  False\n",
      "           Basic Only_Top 100 No Basic Amenities_Bottom 100  -0.2659 0.8973 -0.9837  0.4519  False\n",
      "           Basic Only_Top 100    No Basic Amenities_Top 100   0.1701 0.9846 -0.5495  0.8897  False\n",
      "No Basic Amenities_Bottom 100    No Basic Amenities_Top 100    0.436    0.0  0.1997  0.6722   True\n",
      "--------------------------------------------------------------------------------------------------\n"
     ]
    },
    {
     "data": {
      "image/png": "[encoded data removed]",
      "text/plain": [
       "<Figure size 1000x600 with 1 Axes>"
      ]
     },
     "metadata": {},
     "output_type": "display_data"
    }
   ],
   "source": [
    "from statsmodels.stats.multicomp import pairwise_tukeyhsd\n",
    "\n",
    "# Step 1: Create a combined column for both 'amenity_group' and 'review_group'\n",
    "df_combined_top_btm_100['amenity_review_group'] = df_combined_top_btm_100['amenity_group'].astype(str) + \"_\" + df_combined_top_btm_100['review_group'].astype(str)\n",
    "\n",
    "# Step 2: Run the Tukey HSD test on the combined 'amenity_review_group'\n",
    "tukey = pairwise_tukeyhsd(endog=df_combined_top_btm_100['log_price_sgd'], groups=df_combined_top_btm_100['amenity_review_group'], alpha=0.05)\n",
    "\n",
    "# Step 3: Print Tukey's HSD Summary\n",
    "print(tukey.summary())\n",
    "\n",
    "# Step 4: Plot the results (optional)\n",
    "tukey.plot_simultaneous(ylabel='Group', xlabel='Mean Price')  # This shows confidence intervals for the comparisons\n",
    "plt.show()\n"
   ]
  },
  {
   "cell_type": "code",
   "execution_count": null,
   "metadata": {},
   "outputs": [],
   "source": []
  }
 ],
 "metadata": {
  "kernelspec": {
   "display_name": "base",
   "language": "python",
   "name": "python3"
  },
  "language_info": {
   "codemirror_mode": {
    "name": "ipython",
    "version": 3
   },
   "file_extension": ".py",
   "mimetype": "text/x-python",
   "name": "python",
   "nbconvert_exporter": "python",
   "pygments_lexer": "ipython3",
   "version": "3.12.4"
  }
 },
 "nbformat": 4,
 "nbformat_minor": 2
}
